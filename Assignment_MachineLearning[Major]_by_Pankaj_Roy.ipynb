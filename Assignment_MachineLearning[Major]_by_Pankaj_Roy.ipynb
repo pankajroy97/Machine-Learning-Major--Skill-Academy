{
  "nbformat": 4,
  "nbformat_minor": 0,
  "metadata": {
    "colab": {
      "provenance": [],
      "authorship_tag": "ABX9TyP/c7hSW0qNG2lBku22VPyq",
      "include_colab_link": true
    },
    "kernelspec": {
      "name": "python3",
      "display_name": "Python 3"
    },
    "language_info": {
      "name": "python"
    }
  },
  "cells": [
    {
      "cell_type": "markdown",
      "metadata": {
        "id": "view-in-github",
        "colab_type": "text"
      },
      "source": [
        "<a href=\"https://colab.research.google.com/github/pankajroy97/TestBook-Skill-Academy/blob/main/Assignment_MachineLearning%5BMajor%5D_by_Pankaj_Roy.ipynb\" target=\"_parent\"><img src=\"https://colab.research.google.com/assets/colab-badge.svg\" alt=\"Open In Colab\"/></a>"
      ]
    },
    {
      "cell_type": "markdown",
      "source": [
        "###About Dataset\n",
        "The dataset was developed by starting with satellite images of the ocean, some of which contain an oil spill and some that do not.\n",
        "Images were split into sections and processed using computer vision algorithms to provide a vector of features to describe the contents of the image section or patch.\n",
        "\n",
        "The task is, given a vector that describes the contents of a patch of a satellite image, then predicts whether the patch contains an oil spill or not, e.g. from the illegal or accidental dumping of oil in the ocean.\n",
        "\n",
        "There are two classes and the goal is to distinguish between spill and non-spill using the features for a given ocean patch.\n",
        "\n",
        "Non-Spill: negative case, or majority class.\n",
        "\n",
        "Oil Spill: positive case, or minority class."
      ],
      "metadata": {
        "id": "6qBkRZ6zFmNm"
      }
    },
    {
      "cell_type": "code",
      "execution_count": null,
      "metadata": {
        "id": "xn-mlWZIfj2t"
      },
      "outputs": [],
      "source": [
        "import pandas as pd\n",
        "import pandas as pd\n",
        "import matplotlib.pyplot as plt\n",
        "import seaborn as sns\n",
        "import numpy as np\n",
        "from sklearn.model_selection import train_test_split\n",
        "from sklearn.linear_model import LogisticRegression\n",
        "from sklearn.tree import DecisionTreeClassifier\n",
        "from sklearn.metrics import roc_auc_score,accuracy_score,r2_score\n",
        "from sklearn.ensemble import BaggingClassifier\n",
        "from sklearn.metrics import mean_absolute_error,mean_squared_error"
      ]
    },
    {
      "cell_type": "markdown",
      "source": [
        "###Download the OilSpill Dataset and perform Data cleaning and DataPre-Processing if Necessary."
      ],
      "metadata": {
        "id": "Y41GzIGQR1sZ"
      }
    },
    {
      "cell_type": "code",
      "source": [
        "#Load our dataset\n",
        "df=pd.read_csv('/content/oil_spill.csv')\n",
        "df.head()"
      ],
      "metadata": {
        "id": "pqnY7fCdftrg",
        "colab": {
          "base_uri": "https://localhost:8080/",
          "height": 299
        },
        "outputId": "1ad57f42-e2af-491b-f937-938f152a587b"
      },
      "execution_count": null,
      "outputs": [
        {
          "output_type": "execute_result",
          "data": {
            "text/plain": [
              "   f_1    f_2      f_3     f_4  f_5       f_6    f_7   f_8      f_9  f_10  \\\n",
              "0    1   2558  1506.09  456.63   90   6395000  40.88  7.89  29780.0  0.19   \n",
              "1    2  22325    79.11  841.03  180  55812500  51.11  1.21  61900.0  0.02   \n",
              "2    3    115  1449.85  608.43   88    287500  40.42  7.34   3340.0  0.18   \n",
              "3    4   1201  1562.53  295.65   66   3002500  42.40  7.97  18030.0  0.19   \n",
              "4    5    312   950.27  440.86   37    780000  41.43  7.03   3350.0  0.17   \n",
              "\n",
              "   ...     f_41      f_42     f_43     f_44   f_45  f_46      f_47   f_48  \\\n",
              "0  ...  2850.00   1000.00   763.16   135.46   3.73     0  33243.19  65.74   \n",
              "1  ...  5750.00  11500.00  9593.48  1648.80   0.60     0  51572.04  65.73   \n",
              "2  ...  1400.00    250.00   150.00    45.13   9.33     1  31692.84  65.81   \n",
              "3  ...  6041.52    761.58   453.21   144.97  13.33     1  37696.21  65.67   \n",
              "4  ...  1320.04    710.63   512.54   109.16   2.58     0  29038.17  65.66   \n",
              "\n",
              "   f_49  target  \n",
              "0  7.95       1  \n",
              "1  6.26       0  \n",
              "2  7.84       1  \n",
              "3  8.07       1  \n",
              "4  7.35       0  \n",
              "\n",
              "[5 rows x 50 columns]"
            ],
            "text/html": [
              "\n",
              "  <div id=\"df-e8574515-b7be-40c8-803d-14c68f12c5ae\">\n",
              "    <div class=\"colab-df-container\">\n",
              "      <div>\n",
              "<style scoped>\n",
              "    .dataframe tbody tr th:only-of-type {\n",
              "        vertical-align: middle;\n",
              "    }\n",
              "\n",
              "    .dataframe tbody tr th {\n",
              "        vertical-align: top;\n",
              "    }\n",
              "\n",
              "    .dataframe thead th {\n",
              "        text-align: right;\n",
              "    }\n",
              "</style>\n",
              "<table border=\"1\" class=\"dataframe\">\n",
              "  <thead>\n",
              "    <tr style=\"text-align: right;\">\n",
              "      <th></th>\n",
              "      <th>f_1</th>\n",
              "      <th>f_2</th>\n",
              "      <th>f_3</th>\n",
              "      <th>f_4</th>\n",
              "      <th>f_5</th>\n",
              "      <th>f_6</th>\n",
              "      <th>f_7</th>\n",
              "      <th>f_8</th>\n",
              "      <th>f_9</th>\n",
              "      <th>f_10</th>\n",
              "      <th>...</th>\n",
              "      <th>f_41</th>\n",
              "      <th>f_42</th>\n",
              "      <th>f_43</th>\n",
              "      <th>f_44</th>\n",
              "      <th>f_45</th>\n",
              "      <th>f_46</th>\n",
              "      <th>f_47</th>\n",
              "      <th>f_48</th>\n",
              "      <th>f_49</th>\n",
              "      <th>target</th>\n",
              "    </tr>\n",
              "  </thead>\n",
              "  <tbody>\n",
              "    <tr>\n",
              "      <th>0</th>\n",
              "      <td>1</td>\n",
              "      <td>2558</td>\n",
              "      <td>1506.09</td>\n",
              "      <td>456.63</td>\n",
              "      <td>90</td>\n",
              "      <td>6395000</td>\n",
              "      <td>40.88</td>\n",
              "      <td>7.89</td>\n",
              "      <td>29780.0</td>\n",
              "      <td>0.19</td>\n",
              "      <td>...</td>\n",
              "      <td>2850.00</td>\n",
              "      <td>1000.00</td>\n",
              "      <td>763.16</td>\n",
              "      <td>135.46</td>\n",
              "      <td>3.73</td>\n",
              "      <td>0</td>\n",
              "      <td>33243.19</td>\n",
              "      <td>65.74</td>\n",
              "      <td>7.95</td>\n",
              "      <td>1</td>\n",
              "    </tr>\n",
              "    <tr>\n",
              "      <th>1</th>\n",
              "      <td>2</td>\n",
              "      <td>22325</td>\n",
              "      <td>79.11</td>\n",
              "      <td>841.03</td>\n",
              "      <td>180</td>\n",
              "      <td>55812500</td>\n",
              "      <td>51.11</td>\n",
              "      <td>1.21</td>\n",
              "      <td>61900.0</td>\n",
              "      <td>0.02</td>\n",
              "      <td>...</td>\n",
              "      <td>5750.00</td>\n",
              "      <td>11500.00</td>\n",
              "      <td>9593.48</td>\n",
              "      <td>1648.80</td>\n",
              "      <td>0.60</td>\n",
              "      <td>0</td>\n",
              "      <td>51572.04</td>\n",
              "      <td>65.73</td>\n",
              "      <td>6.26</td>\n",
              "      <td>0</td>\n",
              "    </tr>\n",
              "    <tr>\n",
              "      <th>2</th>\n",
              "      <td>3</td>\n",
              "      <td>115</td>\n",
              "      <td>1449.85</td>\n",
              "      <td>608.43</td>\n",
              "      <td>88</td>\n",
              "      <td>287500</td>\n",
              "      <td>40.42</td>\n",
              "      <td>7.34</td>\n",
              "      <td>3340.0</td>\n",
              "      <td>0.18</td>\n",
              "      <td>...</td>\n",
              "      <td>1400.00</td>\n",
              "      <td>250.00</td>\n",
              "      <td>150.00</td>\n",
              "      <td>45.13</td>\n",
              "      <td>9.33</td>\n",
              "      <td>1</td>\n",
              "      <td>31692.84</td>\n",
              "      <td>65.81</td>\n",
              "      <td>7.84</td>\n",
              "      <td>1</td>\n",
              "    </tr>\n",
              "    <tr>\n",
              "      <th>3</th>\n",
              "      <td>4</td>\n",
              "      <td>1201</td>\n",
              "      <td>1562.53</td>\n",
              "      <td>295.65</td>\n",
              "      <td>66</td>\n",
              "      <td>3002500</td>\n",
              "      <td>42.40</td>\n",
              "      <td>7.97</td>\n",
              "      <td>18030.0</td>\n",
              "      <td>0.19</td>\n",
              "      <td>...</td>\n",
              "      <td>6041.52</td>\n",
              "      <td>761.58</td>\n",
              "      <td>453.21</td>\n",
              "      <td>144.97</td>\n",
              "      <td>13.33</td>\n",
              "      <td>1</td>\n",
              "      <td>37696.21</td>\n",
              "      <td>65.67</td>\n",
              "      <td>8.07</td>\n",
              "      <td>1</td>\n",
              "    </tr>\n",
              "    <tr>\n",
              "      <th>4</th>\n",
              "      <td>5</td>\n",
              "      <td>312</td>\n",
              "      <td>950.27</td>\n",
              "      <td>440.86</td>\n",
              "      <td>37</td>\n",
              "      <td>780000</td>\n",
              "      <td>41.43</td>\n",
              "      <td>7.03</td>\n",
              "      <td>3350.0</td>\n",
              "      <td>0.17</td>\n",
              "      <td>...</td>\n",
              "      <td>1320.04</td>\n",
              "      <td>710.63</td>\n",
              "      <td>512.54</td>\n",
              "      <td>109.16</td>\n",
              "      <td>2.58</td>\n",
              "      <td>0</td>\n",
              "      <td>29038.17</td>\n",
              "      <td>65.66</td>\n",
              "      <td>7.35</td>\n",
              "      <td>0</td>\n",
              "    </tr>\n",
              "  </tbody>\n",
              "</table>\n",
              "<p>5 rows × 50 columns</p>\n",
              "</div>\n",
              "      <button class=\"colab-df-convert\" onclick=\"convertToInteractive('df-e8574515-b7be-40c8-803d-14c68f12c5ae')\"\n",
              "              title=\"Convert this dataframe to an interactive table.\"\n",
              "              style=\"display:none;\">\n",
              "        \n",
              "  <svg xmlns=\"http://www.w3.org/2000/svg\" height=\"24px\"viewBox=\"0 0 24 24\"\n",
              "       width=\"24px\">\n",
              "    <path d=\"M0 0h24v24H0V0z\" fill=\"none\"/>\n",
              "    <path d=\"M18.56 5.44l.94 2.06.94-2.06 2.06-.94-2.06-.94-.94-2.06-.94 2.06-2.06.94zm-11 1L8.5 8.5l.94-2.06 2.06-.94-2.06-.94L8.5 2.5l-.94 2.06-2.06.94zm10 10l.94 2.06.94-2.06 2.06-.94-2.06-.94-.94-2.06-.94 2.06-2.06.94z\"/><path d=\"M17.41 7.96l-1.37-1.37c-.4-.4-.92-.59-1.43-.59-.52 0-1.04.2-1.43.59L10.3 9.45l-7.72 7.72c-.78.78-.78 2.05 0 2.83L4 21.41c.39.39.9.59 1.41.59.51 0 1.02-.2 1.41-.59l7.78-7.78 2.81-2.81c.8-.78.8-2.07 0-2.86zM5.41 20L4 18.59l7.72-7.72 1.47 1.35L5.41 20z\"/>\n",
              "  </svg>\n",
              "      </button>\n",
              "      \n",
              "  <style>\n",
              "    .colab-df-container {\n",
              "      display:flex;\n",
              "      flex-wrap:wrap;\n",
              "      gap: 12px;\n",
              "    }\n",
              "\n",
              "    .colab-df-convert {\n",
              "      background-color: #E8F0FE;\n",
              "      border: none;\n",
              "      border-radius: 50%;\n",
              "      cursor: pointer;\n",
              "      display: none;\n",
              "      fill: #1967D2;\n",
              "      height: 32px;\n",
              "      padding: 0 0 0 0;\n",
              "      width: 32px;\n",
              "    }\n",
              "\n",
              "    .colab-df-convert:hover {\n",
              "      background-color: #E2EBFA;\n",
              "      box-shadow: 0px 1px 2px rgba(60, 64, 67, 0.3), 0px 1px 3px 1px rgba(60, 64, 67, 0.15);\n",
              "      fill: #174EA6;\n",
              "    }\n",
              "\n",
              "    [theme=dark] .colab-df-convert {\n",
              "      background-color: #3B4455;\n",
              "      fill: #D2E3FC;\n",
              "    }\n",
              "\n",
              "    [theme=dark] .colab-df-convert:hover {\n",
              "      background-color: #434B5C;\n",
              "      box-shadow: 0px 1px 3px 1px rgba(0, 0, 0, 0.15);\n",
              "      filter: drop-shadow(0px 1px 2px rgba(0, 0, 0, 0.3));\n",
              "      fill: #FFFFFF;\n",
              "    }\n",
              "  </style>\n",
              "\n",
              "      <script>\n",
              "        const buttonEl =\n",
              "          document.querySelector('#df-e8574515-b7be-40c8-803d-14c68f12c5ae button.colab-df-convert');\n",
              "        buttonEl.style.display =\n",
              "          google.colab.kernel.accessAllowed ? 'block' : 'none';\n",
              "\n",
              "        async function convertToInteractive(key) {\n",
              "          const element = document.querySelector('#df-e8574515-b7be-40c8-803d-14c68f12c5ae');\n",
              "          const dataTable =\n",
              "            await google.colab.kernel.invokeFunction('convertToInteractive',\n",
              "                                                     [key], {});\n",
              "          if (!dataTable) return;\n",
              "\n",
              "          const docLinkHtml = 'Like what you see? Visit the ' +\n",
              "            '<a target=\"_blank\" href=https://colab.research.google.com/notebooks/data_table.ipynb>data table notebook</a>'\n",
              "            + ' to learn more about interactive tables.';\n",
              "          element.innerHTML = '';\n",
              "          dataTable['output_type'] = 'display_data';\n",
              "          await google.colab.output.renderOutput(dataTable, element);\n",
              "          const docLink = document.createElement('div');\n",
              "          docLink.innerHTML = docLinkHtml;\n",
              "          element.appendChild(docLink);\n",
              "        }\n",
              "      </script>\n",
              "    </div>\n",
              "  </div>\n",
              "  "
            ]
          },
          "metadata": {},
          "execution_count": 144
        }
      ]
    },
    {
      "cell_type": "markdown",
      "source": [
        "###Use the various methods such as Handling null values,One-HotEncoding,Imputation and Scaling of DataPre-Processing where necessary.\n",
        "\n",
        "###Derive some insights from the dataset"
      ],
      "metadata": {
        "id": "oz87VU3wReia"
      }
    },
    {
      "cell_type": "code",
      "source": [
        "df.shape"
      ],
      "metadata": {
        "colab": {
          "base_uri": "https://localhost:8080/"
        },
        "id": "HGSzpjUVIzyH",
        "outputId": "b37e9be7-ef83-4782-8280-d53e696e1928"
      },
      "execution_count": null,
      "outputs": [
        {
          "output_type": "execute_result",
          "data": {
            "text/plain": [
              "(937, 50)"
            ]
          },
          "metadata": {},
          "execution_count": 145
        }
      ]
    },
    {
      "cell_type": "code",
      "source": [
        "df.columns"
      ],
      "metadata": {
        "colab": {
          "base_uri": "https://localhost:8080/"
        },
        "id": "3UBJdU9lSCSx",
        "outputId": "c40b9a38-767d-47cf-b9f1-491ba92ce1a9"
      },
      "execution_count": null,
      "outputs": [
        {
          "output_type": "execute_result",
          "data": {
            "text/plain": [
              "Index(['f_1', 'f_2', 'f_3', 'f_4', 'f_5', 'f_6', 'f_7', 'f_8', 'f_9', 'f_10',\n",
              "       'f_11', 'f_12', 'f_13', 'f_14', 'f_15', 'f_16', 'f_17', 'f_18', 'f_19',\n",
              "       'f_20', 'f_21', 'f_22', 'f_23', 'f_24', 'f_25', 'f_26', 'f_27', 'f_28',\n",
              "       'f_29', 'f_30', 'f_31', 'f_32', 'f_33', 'f_34', 'f_35', 'f_36', 'f_37',\n",
              "       'f_38', 'f_39', 'f_40', 'f_41', 'f_42', 'f_43', 'f_44', 'f_45', 'f_46',\n",
              "       'f_47', 'f_48', 'f_49', 'target'],\n",
              "      dtype='object')"
            ]
          },
          "metadata": {},
          "execution_count": 207
        }
      ]
    },
    {
      "cell_type": "code",
      "source": [
        "df.describe().T"
      ],
      "metadata": {
        "id": "Oyt_aME1knpH",
        "colab": {
          "base_uri": "https://localhost:8080/",
          "height": 1000
        },
        "outputId": "b51c5677-a5f4-4d3d-a012-79fd44c65caa"
      },
      "execution_count": null,
      "outputs": [
        {
          "output_type": "execute_result",
          "data": {
            "text/plain": [
              "        count           mean           std       min        25%        50%  \\\n",
              "f_1     937.0      81.588047  6.497673e+01      1.00      31.00      64.00   \n",
              "f_2     937.0     332.842049  1.931939e+03     10.00      20.00      65.00   \n",
              "f_3     937.0     698.707086  5.999656e+02      1.92      85.27     704.37   \n",
              "f_4     937.0     870.992209  5.227993e+02      1.00     444.20     761.28   \n",
              "f_5     937.0      84.121665  4.536177e+01      0.00      54.00      73.00   \n",
              "f_6     937.0  769696.378869  3.831151e+06  70312.00  125000.00  186300.00   \n",
              "f_7     937.0      43.242721  1.271840e+01     21.24      33.65      39.97   \n",
              "f_8     937.0       9.127887  3.588878e+00      0.83       6.75       8.20   \n",
              "f_9     937.0    3940.712914  8.167428e+03    667.00    1371.00    2090.00   \n",
              "f_10    937.0       0.221003  9.031555e-02      0.02       0.16       0.20   \n",
              "f_11    937.0     109.892743  6.146085e+01     41.00      83.50      99.80   \n",
              "f_12    937.0       0.251441  8.813206e-02      0.02       0.20       0.24   \n",
              "f_13    937.0       0.311217  1.213863e-01      0.03       0.24       0.29   \n",
              "f_14    937.0       0.484664  2.168587e-01      0.05       0.33       0.43   \n",
              "f_15    937.0       0.182892  8.294307e-02      0.01       0.13       0.17   \n",
              "f_16    937.0       0.301932  2.046949e-01      0.01       0.13       0.27   \n",
              "f_17    937.0      77.412561  3.043298e+02      4.82      21.09      34.72   \n",
              "f_18    937.0      31.151921  1.526933e+02      1.96      11.68      16.49   \n",
              "f_19    937.0       0.909039  6.754919e-01      0.13       0.37       0.70   \n",
              "f_20    937.0       0.228815  7.541045e-02      0.02       0.18       0.22   \n",
              "f_21    937.0       0.289317  1.053665e-01      0.02       0.23       0.27   \n",
              "f_22    937.0      76.085624  2.293747e+01     47.66      55.85      69.09   \n",
              "f_23    937.0       0.000000  0.000000e+00      0.00       0.00       0.00   \n",
              "f_24    937.0       0.642177  2.999451e-01      0.17       0.45       0.50   \n",
              "f_25    937.0     559.910694  6.124593e+02    132.78     221.97     351.67   \n",
              "f_26    937.0       0.578292  7.021573e-01     -0.71       0.18       0.87   \n",
              "f_27    937.0       7.498196  3.967966e+00      2.96       4.66       5.07   \n",
              "f_28    937.0       0.608399  8.452216e-01     -1.79       0.09       0.48   \n",
              "f_29    937.0       4.271110  3.619406e+00      1.44       2.64       3.33   \n",
              "f_30    937.0      -2.828420  1.621832e+00     -7.81      -3.25      -2.78   \n",
              "f_31    937.0      -0.428869  2.156168e-01     -1.37      -0.53      -0.38   \n",
              "f_32    937.0       1.824589  6.387222e-01      0.00       1.22       1.95   \n",
              "f_33    937.0       0.002785  4.898794e-02      0.00       0.00       0.00   \n",
              "f_34    937.0       1.821793  6.433976e-01      0.00       1.21       1.95   \n",
              "f_35    937.0      43.086446  9.516733e+01      3.00      12.00      23.00   \n",
              "f_36    937.0    2432.689434  5.219378e+03    360.00     720.00    1350.00   \n",
              "f_37    937.0       0.006894  5.337192e-03      0.00       0.00       0.01   \n",
              "f_38    937.0      31.241857  3.158484e+01      5.05      13.45      23.63   \n",
              "f_39    937.0      91.189968  2.198441e+01     64.00      78.00      82.00   \n",
              "f_40    937.0      60.547492  1.383890e+01     39.00      50.00      55.00   \n",
              "f_41    937.0     933.928677  1.001681e+03      0.00     450.00     685.42   \n",
              "f_42    937.0     427.565582  7.153916e+02      0.00     180.00     270.00   \n",
              "f_43    937.0     255.435902  5.343062e+02      0.00      90.80     161.65   \n",
              "f_44    937.0     106.112519  1.356177e+02      0.00      50.12      73.85   \n",
              "f_45    937.0       5.014002  5.029151e+00      0.00       2.37       3.85   \n",
              "f_46    937.0       0.128068  3.343443e-01      0.00       0.00       0.00   \n",
              "f_47    937.0    7985.718004  6.854505e+03   2051.50    3760.57    5509.43   \n",
              "f_48    937.0      61.694386  1.041281e+01     35.95      65.72      65.93   \n",
              "f_49    937.0       8.119723  2.908895e+00      5.81       6.34       7.22   \n",
              "target  937.0       0.043757  2.046625e-01      0.00       0.00       0.00   \n",
              "\n",
              "              75%          max  \n",
              "f_1        124.00       352.00  \n",
              "f_2        132.00     32389.00  \n",
              "f_3       1223.48      1893.08  \n",
              "f_4       1260.37      2724.57  \n",
              "f_5        117.00       180.00  \n",
              "f_6     330468.00  71315000.00  \n",
              "f_7         52.42        82.64  \n",
              "f_8         10.76        24.69  \n",
              "f_9       3435.00    160740.00  \n",
              "f_10         0.26         0.74  \n",
              "f_11       115.40       901.70  \n",
              "f_12         0.29         0.66  \n",
              "f_13         0.35         0.83  \n",
              "f_14         0.61         1.23  \n",
              "f_15         0.22         0.65  \n",
              "f_16         0.41         1.12  \n",
              "f_17        65.95      6058.23  \n",
              "f_18        24.75      4061.15  \n",
              "f_19         1.06         2.60  \n",
              "f_20         0.27         0.65  \n",
              "f_21         0.32         0.77  \n",
              "f_22        85.22       126.08  \n",
              "f_23         0.00         0.00  \n",
              "f_24         0.96         1.33  \n",
              "f_25       422.12      2036.80  \n",
              "f_26         1.01         1.83  \n",
              "f_27        12.06        14.78  \n",
              "f_28         0.98         5.72  \n",
              "f_29         4.50        39.42  \n",
              "f_30        -1.62         1.28  \n",
              "f_31        -0.28         0.00  \n",
              "f_32         2.17         2.98  \n",
              "f_33         0.00         0.87  \n",
              "f_34         2.17         2.98  \n",
              "f_35        39.00      1695.00  \n",
              "f_36      2160.00     95310.00  \n",
              "f_37         0.01         0.02  \n",
              "f_38        37.76       441.23  \n",
              "f_39        99.00       143.00  \n",
              "f_40        67.00        86.00  \n",
              "f_41      1053.42     11949.33  \n",
              "f_42       460.98     11500.00  \n",
              "f_43       265.51      9593.48  \n",
              "f_44       125.81      1748.13  \n",
              "f_45         6.32        76.63  \n",
              "f_46         0.00         1.00  \n",
              "f_47      9521.93     55128.46  \n",
              "f_48        66.13        66.45  \n",
              "f_49         7.84        15.44  \n",
              "target       0.00         1.00  "
            ],
            "text/html": [
              "\n",
              "  <div id=\"df-4790b8aa-7020-4ad3-b1bf-046797d11eeb\">\n",
              "    <div class=\"colab-df-container\">\n",
              "      <div>\n",
              "<style scoped>\n",
              "    .dataframe tbody tr th:only-of-type {\n",
              "        vertical-align: middle;\n",
              "    }\n",
              "\n",
              "    .dataframe tbody tr th {\n",
              "        vertical-align: top;\n",
              "    }\n",
              "\n",
              "    .dataframe thead th {\n",
              "        text-align: right;\n",
              "    }\n",
              "</style>\n",
              "<table border=\"1\" class=\"dataframe\">\n",
              "  <thead>\n",
              "    <tr style=\"text-align: right;\">\n",
              "      <th></th>\n",
              "      <th>count</th>\n",
              "      <th>mean</th>\n",
              "      <th>std</th>\n",
              "      <th>min</th>\n",
              "      <th>25%</th>\n",
              "      <th>50%</th>\n",
              "      <th>75%</th>\n",
              "      <th>max</th>\n",
              "    </tr>\n",
              "  </thead>\n",
              "  <tbody>\n",
              "    <tr>\n",
              "      <th>f_1</th>\n",
              "      <td>937.0</td>\n",
              "      <td>81.588047</td>\n",
              "      <td>6.497673e+01</td>\n",
              "      <td>1.00</td>\n",
              "      <td>31.00</td>\n",
              "      <td>64.00</td>\n",
              "      <td>124.00</td>\n",
              "      <td>352.00</td>\n",
              "    </tr>\n",
              "    <tr>\n",
              "      <th>f_2</th>\n",
              "      <td>937.0</td>\n",
              "      <td>332.842049</td>\n",
              "      <td>1.931939e+03</td>\n",
              "      <td>10.00</td>\n",
              "      <td>20.00</td>\n",
              "      <td>65.00</td>\n",
              "      <td>132.00</td>\n",
              "      <td>32389.00</td>\n",
              "    </tr>\n",
              "    <tr>\n",
              "      <th>f_3</th>\n",
              "      <td>937.0</td>\n",
              "      <td>698.707086</td>\n",
              "      <td>5.999656e+02</td>\n",
              "      <td>1.92</td>\n",
              "      <td>85.27</td>\n",
              "      <td>704.37</td>\n",
              "      <td>1223.48</td>\n",
              "      <td>1893.08</td>\n",
              "    </tr>\n",
              "    <tr>\n",
              "      <th>f_4</th>\n",
              "      <td>937.0</td>\n",
              "      <td>870.992209</td>\n",
              "      <td>5.227993e+02</td>\n",
              "      <td>1.00</td>\n",
              "      <td>444.20</td>\n",
              "      <td>761.28</td>\n",
              "      <td>1260.37</td>\n",
              "      <td>2724.57</td>\n",
              "    </tr>\n",
              "    <tr>\n",
              "      <th>f_5</th>\n",
              "      <td>937.0</td>\n",
              "      <td>84.121665</td>\n",
              "      <td>4.536177e+01</td>\n",
              "      <td>0.00</td>\n",
              "      <td>54.00</td>\n",
              "      <td>73.00</td>\n",
              "      <td>117.00</td>\n",
              "      <td>180.00</td>\n",
              "    </tr>\n",
              "    <tr>\n",
              "      <th>f_6</th>\n",
              "      <td>937.0</td>\n",
              "      <td>769696.378869</td>\n",
              "      <td>3.831151e+06</td>\n",
              "      <td>70312.00</td>\n",
              "      <td>125000.00</td>\n",
              "      <td>186300.00</td>\n",
              "      <td>330468.00</td>\n",
              "      <td>71315000.00</td>\n",
              "    </tr>\n",
              "    <tr>\n",
              "      <th>f_7</th>\n",
              "      <td>937.0</td>\n",
              "      <td>43.242721</td>\n",
              "      <td>1.271840e+01</td>\n",
              "      <td>21.24</td>\n",
              "      <td>33.65</td>\n",
              "      <td>39.97</td>\n",
              "      <td>52.42</td>\n",
              "      <td>82.64</td>\n",
              "    </tr>\n",
              "    <tr>\n",
              "      <th>f_8</th>\n",
              "      <td>937.0</td>\n",
              "      <td>9.127887</td>\n",
              "      <td>3.588878e+00</td>\n",
              "      <td>0.83</td>\n",
              "      <td>6.75</td>\n",
              "      <td>8.20</td>\n",
              "      <td>10.76</td>\n",
              "      <td>24.69</td>\n",
              "    </tr>\n",
              "    <tr>\n",
              "      <th>f_9</th>\n",
              "      <td>937.0</td>\n",
              "      <td>3940.712914</td>\n",
              "      <td>8.167428e+03</td>\n",
              "      <td>667.00</td>\n",
              "      <td>1371.00</td>\n",
              "      <td>2090.00</td>\n",
              "      <td>3435.00</td>\n",
              "      <td>160740.00</td>\n",
              "    </tr>\n",
              "    <tr>\n",
              "      <th>f_10</th>\n",
              "      <td>937.0</td>\n",
              "      <td>0.221003</td>\n",
              "      <td>9.031555e-02</td>\n",
              "      <td>0.02</td>\n",
              "      <td>0.16</td>\n",
              "      <td>0.20</td>\n",
              "      <td>0.26</td>\n",
              "      <td>0.74</td>\n",
              "    </tr>\n",
              "    <tr>\n",
              "      <th>f_11</th>\n",
              "      <td>937.0</td>\n",
              "      <td>109.892743</td>\n",
              "      <td>6.146085e+01</td>\n",
              "      <td>41.00</td>\n",
              "      <td>83.50</td>\n",
              "      <td>99.80</td>\n",
              "      <td>115.40</td>\n",
              "      <td>901.70</td>\n",
              "    </tr>\n",
              "    <tr>\n",
              "      <th>f_12</th>\n",
              "      <td>937.0</td>\n",
              "      <td>0.251441</td>\n",
              "      <td>8.813206e-02</td>\n",
              "      <td>0.02</td>\n",
              "      <td>0.20</td>\n",
              "      <td>0.24</td>\n",
              "      <td>0.29</td>\n",
              "      <td>0.66</td>\n",
              "    </tr>\n",
              "    <tr>\n",
              "      <th>f_13</th>\n",
              "      <td>937.0</td>\n",
              "      <td>0.311217</td>\n",
              "      <td>1.213863e-01</td>\n",
              "      <td>0.03</td>\n",
              "      <td>0.24</td>\n",
              "      <td>0.29</td>\n",
              "      <td>0.35</td>\n",
              "      <td>0.83</td>\n",
              "    </tr>\n",
              "    <tr>\n",
              "      <th>f_14</th>\n",
              "      <td>937.0</td>\n",
              "      <td>0.484664</td>\n",
              "      <td>2.168587e-01</td>\n",
              "      <td>0.05</td>\n",
              "      <td>0.33</td>\n",
              "      <td>0.43</td>\n",
              "      <td>0.61</td>\n",
              "      <td>1.23</td>\n",
              "    </tr>\n",
              "    <tr>\n",
              "      <th>f_15</th>\n",
              "      <td>937.0</td>\n",
              "      <td>0.182892</td>\n",
              "      <td>8.294307e-02</td>\n",
              "      <td>0.01</td>\n",
              "      <td>0.13</td>\n",
              "      <td>0.17</td>\n",
              "      <td>0.22</td>\n",
              "      <td>0.65</td>\n",
              "    </tr>\n",
              "    <tr>\n",
              "      <th>f_16</th>\n",
              "      <td>937.0</td>\n",
              "      <td>0.301932</td>\n",
              "      <td>2.046949e-01</td>\n",
              "      <td>0.01</td>\n",
              "      <td>0.13</td>\n",
              "      <td>0.27</td>\n",
              "      <td>0.41</td>\n",
              "      <td>1.12</td>\n",
              "    </tr>\n",
              "    <tr>\n",
              "      <th>f_17</th>\n",
              "      <td>937.0</td>\n",
              "      <td>77.412561</td>\n",
              "      <td>3.043298e+02</td>\n",
              "      <td>4.82</td>\n",
              "      <td>21.09</td>\n",
              "      <td>34.72</td>\n",
              "      <td>65.95</td>\n",
              "      <td>6058.23</td>\n",
              "    </tr>\n",
              "    <tr>\n",
              "      <th>f_18</th>\n",
              "      <td>937.0</td>\n",
              "      <td>31.151921</td>\n",
              "      <td>1.526933e+02</td>\n",
              "      <td>1.96</td>\n",
              "      <td>11.68</td>\n",
              "      <td>16.49</td>\n",
              "      <td>24.75</td>\n",
              "      <td>4061.15</td>\n",
              "    </tr>\n",
              "    <tr>\n",
              "      <th>f_19</th>\n",
              "      <td>937.0</td>\n",
              "      <td>0.909039</td>\n",
              "      <td>6.754919e-01</td>\n",
              "      <td>0.13</td>\n",
              "      <td>0.37</td>\n",
              "      <td>0.70</td>\n",
              "      <td>1.06</td>\n",
              "      <td>2.60</td>\n",
              "    </tr>\n",
              "    <tr>\n",
              "      <th>f_20</th>\n",
              "      <td>937.0</td>\n",
              "      <td>0.228815</td>\n",
              "      <td>7.541045e-02</td>\n",
              "      <td>0.02</td>\n",
              "      <td>0.18</td>\n",
              "      <td>0.22</td>\n",
              "      <td>0.27</td>\n",
              "      <td>0.65</td>\n",
              "    </tr>\n",
              "    <tr>\n",
              "      <th>f_21</th>\n",
              "      <td>937.0</td>\n",
              "      <td>0.289317</td>\n",
              "      <td>1.053665e-01</td>\n",
              "      <td>0.02</td>\n",
              "      <td>0.23</td>\n",
              "      <td>0.27</td>\n",
              "      <td>0.32</td>\n",
              "      <td>0.77</td>\n",
              "    </tr>\n",
              "    <tr>\n",
              "      <th>f_22</th>\n",
              "      <td>937.0</td>\n",
              "      <td>76.085624</td>\n",
              "      <td>2.293747e+01</td>\n",
              "      <td>47.66</td>\n",
              "      <td>55.85</td>\n",
              "      <td>69.09</td>\n",
              "      <td>85.22</td>\n",
              "      <td>126.08</td>\n",
              "    </tr>\n",
              "    <tr>\n",
              "      <th>f_23</th>\n",
              "      <td>937.0</td>\n",
              "      <td>0.000000</td>\n",
              "      <td>0.000000e+00</td>\n",
              "      <td>0.00</td>\n",
              "      <td>0.00</td>\n",
              "      <td>0.00</td>\n",
              "      <td>0.00</td>\n",
              "      <td>0.00</td>\n",
              "    </tr>\n",
              "    <tr>\n",
              "      <th>f_24</th>\n",
              "      <td>937.0</td>\n",
              "      <td>0.642177</td>\n",
              "      <td>2.999451e-01</td>\n",
              "      <td>0.17</td>\n",
              "      <td>0.45</td>\n",
              "      <td>0.50</td>\n",
              "      <td>0.96</td>\n",
              "      <td>1.33</td>\n",
              "    </tr>\n",
              "    <tr>\n",
              "      <th>f_25</th>\n",
              "      <td>937.0</td>\n",
              "      <td>559.910694</td>\n",
              "      <td>6.124593e+02</td>\n",
              "      <td>132.78</td>\n",
              "      <td>221.97</td>\n",
              "      <td>351.67</td>\n",
              "      <td>422.12</td>\n",
              "      <td>2036.80</td>\n",
              "    </tr>\n",
              "    <tr>\n",
              "      <th>f_26</th>\n",
              "      <td>937.0</td>\n",
              "      <td>0.578292</td>\n",
              "      <td>7.021573e-01</td>\n",
              "      <td>-0.71</td>\n",
              "      <td>0.18</td>\n",
              "      <td>0.87</td>\n",
              "      <td>1.01</td>\n",
              "      <td>1.83</td>\n",
              "    </tr>\n",
              "    <tr>\n",
              "      <th>f_27</th>\n",
              "      <td>937.0</td>\n",
              "      <td>7.498196</td>\n",
              "      <td>3.967966e+00</td>\n",
              "      <td>2.96</td>\n",
              "      <td>4.66</td>\n",
              "      <td>5.07</td>\n",
              "      <td>12.06</td>\n",
              "      <td>14.78</td>\n",
              "    </tr>\n",
              "    <tr>\n",
              "      <th>f_28</th>\n",
              "      <td>937.0</td>\n",
              "      <td>0.608399</td>\n",
              "      <td>8.452216e-01</td>\n",
              "      <td>-1.79</td>\n",
              "      <td>0.09</td>\n",
              "      <td>0.48</td>\n",
              "      <td>0.98</td>\n",
              "      <td>5.72</td>\n",
              "    </tr>\n",
              "    <tr>\n",
              "      <th>f_29</th>\n",
              "      <td>937.0</td>\n",
              "      <td>4.271110</td>\n",
              "      <td>3.619406e+00</td>\n",
              "      <td>1.44</td>\n",
              "      <td>2.64</td>\n",
              "      <td>3.33</td>\n",
              "      <td>4.50</td>\n",
              "      <td>39.42</td>\n",
              "    </tr>\n",
              "    <tr>\n",
              "      <th>f_30</th>\n",
              "      <td>937.0</td>\n",
              "      <td>-2.828420</td>\n",
              "      <td>1.621832e+00</td>\n",
              "      <td>-7.81</td>\n",
              "      <td>-3.25</td>\n",
              "      <td>-2.78</td>\n",
              "      <td>-1.62</td>\n",
              "      <td>1.28</td>\n",
              "    </tr>\n",
              "    <tr>\n",
              "      <th>f_31</th>\n",
              "      <td>937.0</td>\n",
              "      <td>-0.428869</td>\n",
              "      <td>2.156168e-01</td>\n",
              "      <td>-1.37</td>\n",
              "      <td>-0.53</td>\n",
              "      <td>-0.38</td>\n",
              "      <td>-0.28</td>\n",
              "      <td>0.00</td>\n",
              "    </tr>\n",
              "    <tr>\n",
              "      <th>f_32</th>\n",
              "      <td>937.0</td>\n",
              "      <td>1.824589</td>\n",
              "      <td>6.387222e-01</td>\n",
              "      <td>0.00</td>\n",
              "      <td>1.22</td>\n",
              "      <td>1.95</td>\n",
              "      <td>2.17</td>\n",
              "      <td>2.98</td>\n",
              "    </tr>\n",
              "    <tr>\n",
              "      <th>f_33</th>\n",
              "      <td>937.0</td>\n",
              "      <td>0.002785</td>\n",
              "      <td>4.898794e-02</td>\n",
              "      <td>0.00</td>\n",
              "      <td>0.00</td>\n",
              "      <td>0.00</td>\n",
              "      <td>0.00</td>\n",
              "      <td>0.87</td>\n",
              "    </tr>\n",
              "    <tr>\n",
              "      <th>f_34</th>\n",
              "      <td>937.0</td>\n",
              "      <td>1.821793</td>\n",
              "      <td>6.433976e-01</td>\n",
              "      <td>0.00</td>\n",
              "      <td>1.21</td>\n",
              "      <td>1.95</td>\n",
              "      <td>2.17</td>\n",
              "      <td>2.98</td>\n",
              "    </tr>\n",
              "    <tr>\n",
              "      <th>f_35</th>\n",
              "      <td>937.0</td>\n",
              "      <td>43.086446</td>\n",
              "      <td>9.516733e+01</td>\n",
              "      <td>3.00</td>\n",
              "      <td>12.00</td>\n",
              "      <td>23.00</td>\n",
              "      <td>39.00</td>\n",
              "      <td>1695.00</td>\n",
              "    </tr>\n",
              "    <tr>\n",
              "      <th>f_36</th>\n",
              "      <td>937.0</td>\n",
              "      <td>2432.689434</td>\n",
              "      <td>5.219378e+03</td>\n",
              "      <td>360.00</td>\n",
              "      <td>720.00</td>\n",
              "      <td>1350.00</td>\n",
              "      <td>2160.00</td>\n",
              "      <td>95310.00</td>\n",
              "    </tr>\n",
              "    <tr>\n",
              "      <th>f_37</th>\n",
              "      <td>937.0</td>\n",
              "      <td>0.006894</td>\n",
              "      <td>5.337192e-03</td>\n",
              "      <td>0.00</td>\n",
              "      <td>0.00</td>\n",
              "      <td>0.01</td>\n",
              "      <td>0.01</td>\n",
              "      <td>0.02</td>\n",
              "    </tr>\n",
              "    <tr>\n",
              "      <th>f_38</th>\n",
              "      <td>937.0</td>\n",
              "      <td>31.241857</td>\n",
              "      <td>3.158484e+01</td>\n",
              "      <td>5.05</td>\n",
              "      <td>13.45</td>\n",
              "      <td>23.63</td>\n",
              "      <td>37.76</td>\n",
              "      <td>441.23</td>\n",
              "    </tr>\n",
              "    <tr>\n",
              "      <th>f_39</th>\n",
              "      <td>937.0</td>\n",
              "      <td>91.189968</td>\n",
              "      <td>2.198441e+01</td>\n",
              "      <td>64.00</td>\n",
              "      <td>78.00</td>\n",
              "      <td>82.00</td>\n",
              "      <td>99.00</td>\n",
              "      <td>143.00</td>\n",
              "    </tr>\n",
              "    <tr>\n",
              "      <th>f_40</th>\n",
              "      <td>937.0</td>\n",
              "      <td>60.547492</td>\n",
              "      <td>1.383890e+01</td>\n",
              "      <td>39.00</td>\n",
              "      <td>50.00</td>\n",
              "      <td>55.00</td>\n",
              "      <td>67.00</td>\n",
              "      <td>86.00</td>\n",
              "    </tr>\n",
              "    <tr>\n",
              "      <th>f_41</th>\n",
              "      <td>937.0</td>\n",
              "      <td>933.928677</td>\n",
              "      <td>1.001681e+03</td>\n",
              "      <td>0.00</td>\n",
              "      <td>450.00</td>\n",
              "      <td>685.42</td>\n",
              "      <td>1053.42</td>\n",
              "      <td>11949.33</td>\n",
              "    </tr>\n",
              "    <tr>\n",
              "      <th>f_42</th>\n",
              "      <td>937.0</td>\n",
              "      <td>427.565582</td>\n",
              "      <td>7.153916e+02</td>\n",
              "      <td>0.00</td>\n",
              "      <td>180.00</td>\n",
              "      <td>270.00</td>\n",
              "      <td>460.98</td>\n",
              "      <td>11500.00</td>\n",
              "    </tr>\n",
              "    <tr>\n",
              "      <th>f_43</th>\n",
              "      <td>937.0</td>\n",
              "      <td>255.435902</td>\n",
              "      <td>5.343062e+02</td>\n",
              "      <td>0.00</td>\n",
              "      <td>90.80</td>\n",
              "      <td>161.65</td>\n",
              "      <td>265.51</td>\n",
              "      <td>9593.48</td>\n",
              "    </tr>\n",
              "    <tr>\n",
              "      <th>f_44</th>\n",
              "      <td>937.0</td>\n",
              "      <td>106.112519</td>\n",
              "      <td>1.356177e+02</td>\n",
              "      <td>0.00</td>\n",
              "      <td>50.12</td>\n",
              "      <td>73.85</td>\n",
              "      <td>125.81</td>\n",
              "      <td>1748.13</td>\n",
              "    </tr>\n",
              "    <tr>\n",
              "      <th>f_45</th>\n",
              "      <td>937.0</td>\n",
              "      <td>5.014002</td>\n",
              "      <td>5.029151e+00</td>\n",
              "      <td>0.00</td>\n",
              "      <td>2.37</td>\n",
              "      <td>3.85</td>\n",
              "      <td>6.32</td>\n",
              "      <td>76.63</td>\n",
              "    </tr>\n",
              "    <tr>\n",
              "      <th>f_46</th>\n",
              "      <td>937.0</td>\n",
              "      <td>0.128068</td>\n",
              "      <td>3.343443e-01</td>\n",
              "      <td>0.00</td>\n",
              "      <td>0.00</td>\n",
              "      <td>0.00</td>\n",
              "      <td>0.00</td>\n",
              "      <td>1.00</td>\n",
              "    </tr>\n",
              "    <tr>\n",
              "      <th>f_47</th>\n",
              "      <td>937.0</td>\n",
              "      <td>7985.718004</td>\n",
              "      <td>6.854505e+03</td>\n",
              "      <td>2051.50</td>\n",
              "      <td>3760.57</td>\n",
              "      <td>5509.43</td>\n",
              "      <td>9521.93</td>\n",
              "      <td>55128.46</td>\n",
              "    </tr>\n",
              "    <tr>\n",
              "      <th>f_48</th>\n",
              "      <td>937.0</td>\n",
              "      <td>61.694386</td>\n",
              "      <td>1.041281e+01</td>\n",
              "      <td>35.95</td>\n",
              "      <td>65.72</td>\n",
              "      <td>65.93</td>\n",
              "      <td>66.13</td>\n",
              "      <td>66.45</td>\n",
              "    </tr>\n",
              "    <tr>\n",
              "      <th>f_49</th>\n",
              "      <td>937.0</td>\n",
              "      <td>8.119723</td>\n",
              "      <td>2.908895e+00</td>\n",
              "      <td>5.81</td>\n",
              "      <td>6.34</td>\n",
              "      <td>7.22</td>\n",
              "      <td>7.84</td>\n",
              "      <td>15.44</td>\n",
              "    </tr>\n",
              "    <tr>\n",
              "      <th>target</th>\n",
              "      <td>937.0</td>\n",
              "      <td>0.043757</td>\n",
              "      <td>2.046625e-01</td>\n",
              "      <td>0.00</td>\n",
              "      <td>0.00</td>\n",
              "      <td>0.00</td>\n",
              "      <td>0.00</td>\n",
              "      <td>1.00</td>\n",
              "    </tr>\n",
              "  </tbody>\n",
              "</table>\n",
              "</div>\n",
              "      <button class=\"colab-df-convert\" onclick=\"convertToInteractive('df-4790b8aa-7020-4ad3-b1bf-046797d11eeb')\"\n",
              "              title=\"Convert this dataframe to an interactive table.\"\n",
              "              style=\"display:none;\">\n",
              "        \n",
              "  <svg xmlns=\"http://www.w3.org/2000/svg\" height=\"24px\"viewBox=\"0 0 24 24\"\n",
              "       width=\"24px\">\n",
              "    <path d=\"M0 0h24v24H0V0z\" fill=\"none\"/>\n",
              "    <path d=\"M18.56 5.44l.94 2.06.94-2.06 2.06-.94-2.06-.94-.94-2.06-.94 2.06-2.06.94zm-11 1L8.5 8.5l.94-2.06 2.06-.94-2.06-.94L8.5 2.5l-.94 2.06-2.06.94zm10 10l.94 2.06.94-2.06 2.06-.94-2.06-.94-.94-2.06-.94 2.06-2.06.94z\"/><path d=\"M17.41 7.96l-1.37-1.37c-.4-.4-.92-.59-1.43-.59-.52 0-1.04.2-1.43.59L10.3 9.45l-7.72 7.72c-.78.78-.78 2.05 0 2.83L4 21.41c.39.39.9.59 1.41.59.51 0 1.02-.2 1.41-.59l7.78-7.78 2.81-2.81c.8-.78.8-2.07 0-2.86zM5.41 20L4 18.59l7.72-7.72 1.47 1.35L5.41 20z\"/>\n",
              "  </svg>\n",
              "      </button>\n",
              "      \n",
              "  <style>\n",
              "    .colab-df-container {\n",
              "      display:flex;\n",
              "      flex-wrap:wrap;\n",
              "      gap: 12px;\n",
              "    }\n",
              "\n",
              "    .colab-df-convert {\n",
              "      background-color: #E8F0FE;\n",
              "      border: none;\n",
              "      border-radius: 50%;\n",
              "      cursor: pointer;\n",
              "      display: none;\n",
              "      fill: #1967D2;\n",
              "      height: 32px;\n",
              "      padding: 0 0 0 0;\n",
              "      width: 32px;\n",
              "    }\n",
              "\n",
              "    .colab-df-convert:hover {\n",
              "      background-color: #E2EBFA;\n",
              "      box-shadow: 0px 1px 2px rgba(60, 64, 67, 0.3), 0px 1px 3px 1px rgba(60, 64, 67, 0.15);\n",
              "      fill: #174EA6;\n",
              "    }\n",
              "\n",
              "    [theme=dark] .colab-df-convert {\n",
              "      background-color: #3B4455;\n",
              "      fill: #D2E3FC;\n",
              "    }\n",
              "\n",
              "    [theme=dark] .colab-df-convert:hover {\n",
              "      background-color: #434B5C;\n",
              "      box-shadow: 0px 1px 3px 1px rgba(0, 0, 0, 0.15);\n",
              "      filter: drop-shadow(0px 1px 2px rgba(0, 0, 0, 0.3));\n",
              "      fill: #FFFFFF;\n",
              "    }\n",
              "  </style>\n",
              "\n",
              "      <script>\n",
              "        const buttonEl =\n",
              "          document.querySelector('#df-4790b8aa-7020-4ad3-b1bf-046797d11eeb button.colab-df-convert');\n",
              "        buttonEl.style.display =\n",
              "          google.colab.kernel.accessAllowed ? 'block' : 'none';\n",
              "\n",
              "        async function convertToInteractive(key) {\n",
              "          const element = document.querySelector('#df-4790b8aa-7020-4ad3-b1bf-046797d11eeb');\n",
              "          const dataTable =\n",
              "            await google.colab.kernel.invokeFunction('convertToInteractive',\n",
              "                                                     [key], {});\n",
              "          if (!dataTable) return;\n",
              "\n",
              "          const docLinkHtml = 'Like what you see? Visit the ' +\n",
              "            '<a target=\"_blank\" href=https://colab.research.google.com/notebooks/data_table.ipynb>data table notebook</a>'\n",
              "            + ' to learn more about interactive tables.';\n",
              "          element.innerHTML = '';\n",
              "          dataTable['output_type'] = 'display_data';\n",
              "          await google.colab.output.renderOutput(dataTable, element);\n",
              "          const docLink = document.createElement('div');\n",
              "          docLink.innerHTML = docLinkHtml;\n",
              "          element.appendChild(docLink);\n",
              "        }\n",
              "      </script>\n",
              "    </div>\n",
              "  </div>\n",
              "  "
            ]
          },
          "metadata": {},
          "execution_count": 146
        }
      ]
    },
    {
      "cell_type": "code",
      "source": [
        "df.info()"
      ],
      "metadata": {
        "id": "o3Nze22E8Mu2",
        "colab": {
          "base_uri": "https://localhost:8080/"
        },
        "outputId": "2b68a7ca-b127-4195-c055-fef2bdb7d904"
      },
      "execution_count": null,
      "outputs": [
        {
          "output_type": "stream",
          "name": "stdout",
          "text": [
            "<class 'pandas.core.frame.DataFrame'>\n",
            "RangeIndex: 937 entries, 0 to 936\n",
            "Data columns (total 50 columns):\n",
            " #   Column  Non-Null Count  Dtype  \n",
            "---  ------  --------------  -----  \n",
            " 0   f_1     937 non-null    int64  \n",
            " 1   f_2     937 non-null    int64  \n",
            " 2   f_3     937 non-null    float64\n",
            " 3   f_4     937 non-null    float64\n",
            " 4   f_5     937 non-null    int64  \n",
            " 5   f_6     937 non-null    int64  \n",
            " 6   f_7     937 non-null    float64\n",
            " 7   f_8     937 non-null    float64\n",
            " 8   f_9     937 non-null    float64\n",
            " 9   f_10    937 non-null    float64\n",
            " 10  f_11    937 non-null    float64\n",
            " 11  f_12    937 non-null    float64\n",
            " 12  f_13    937 non-null    float64\n",
            " 13  f_14    937 non-null    float64\n",
            " 14  f_15    937 non-null    float64\n",
            " 15  f_16    937 non-null    float64\n",
            " 16  f_17    937 non-null    float64\n",
            " 17  f_18    937 non-null    float64\n",
            " 18  f_19    937 non-null    float64\n",
            " 19  f_20    937 non-null    float64\n",
            " 20  f_21    937 non-null    float64\n",
            " 21  f_22    937 non-null    float64\n",
            " 22  f_23    937 non-null    int64  \n",
            " 23  f_24    937 non-null    float64\n",
            " 24  f_25    937 non-null    float64\n",
            " 25  f_26    937 non-null    float64\n",
            " 26  f_27    937 non-null    float64\n",
            " 27  f_28    937 non-null    float64\n",
            " 28  f_29    937 non-null    float64\n",
            " 29  f_30    937 non-null    float64\n",
            " 30  f_31    937 non-null    float64\n",
            " 31  f_32    937 non-null    float64\n",
            " 32  f_33    937 non-null    float64\n",
            " 33  f_34    937 non-null    float64\n",
            " 34  f_35    937 non-null    int64  \n",
            " 35  f_36    937 non-null    int64  \n",
            " 36  f_37    937 non-null    float64\n",
            " 37  f_38    937 non-null    float64\n",
            " 38  f_39    937 non-null    int64  \n",
            " 39  f_40    937 non-null    int64  \n",
            " 40  f_41    937 non-null    float64\n",
            " 41  f_42    937 non-null    float64\n",
            " 42  f_43    937 non-null    float64\n",
            " 43  f_44    937 non-null    float64\n",
            " 44  f_45    937 non-null    float64\n",
            " 45  f_46    937 non-null    int64  \n",
            " 46  f_47    937 non-null    float64\n",
            " 47  f_48    937 non-null    float64\n",
            " 48  f_49    937 non-null    float64\n",
            " 49  target  937 non-null    int64  \n",
            "dtypes: float64(39), int64(11)\n",
            "memory usage: 366.1 KB\n"
          ]
        }
      ]
    },
    {
      "cell_type": "markdown",
      "source": [
        "###Data Preprocessing\n",
        "\n",
        "Handle Null Values"
      ],
      "metadata": {
        "id": "2_9xRJra8jCv"
      }
    },
    {
      "cell_type": "code",
      "source": [
        "df.isnull().sum()"
      ],
      "metadata": {
        "id": "KttI1-eYker2",
        "colab": {
          "base_uri": "https://localhost:8080/"
        },
        "outputId": "bbed1d74-57ae-49d7-a418-140031688c18"
      },
      "execution_count": null,
      "outputs": [
        {
          "output_type": "execute_result",
          "data": {
            "text/plain": [
              "f_1       0\n",
              "f_2       0\n",
              "f_3       0\n",
              "f_4       0\n",
              "f_5       0\n",
              "f_6       0\n",
              "f_7       0\n",
              "f_8       0\n",
              "f_9       0\n",
              "f_10      0\n",
              "f_11      0\n",
              "f_12      0\n",
              "f_13      0\n",
              "f_14      0\n",
              "f_15      0\n",
              "f_16      0\n",
              "f_17      0\n",
              "f_18      0\n",
              "f_19      0\n",
              "f_20      0\n",
              "f_21      0\n",
              "f_22      0\n",
              "f_23      0\n",
              "f_24      0\n",
              "f_25      0\n",
              "f_26      0\n",
              "f_27      0\n",
              "f_28      0\n",
              "f_29      0\n",
              "f_30      0\n",
              "f_31      0\n",
              "f_32      0\n",
              "f_33      0\n",
              "f_34      0\n",
              "f_35      0\n",
              "f_36      0\n",
              "f_37      0\n",
              "f_38      0\n",
              "f_39      0\n",
              "f_40      0\n",
              "f_41      0\n",
              "f_42      0\n",
              "f_43      0\n",
              "f_44      0\n",
              "f_45      0\n",
              "f_46      0\n",
              "f_47      0\n",
              "f_48      0\n",
              "f_49      0\n",
              "target    0\n",
              "dtype: int64"
            ]
          },
          "metadata": {},
          "execution_count": 148
        }
      ]
    },
    {
      "cell_type": "code",
      "source": [
        "df.duplicated().sum()"
      ],
      "metadata": {
        "id": "fmj-sJkGkiu-",
        "colab": {
          "base_uri": "https://localhost:8080/"
        },
        "outputId": "7d0bd958-da95-4832-be48-e335bdf3c7ac"
      },
      "execution_count": null,
      "outputs": [
        {
          "output_type": "execute_result",
          "data": {
            "text/plain": [
              "0"
            ]
          },
          "metadata": {},
          "execution_count": 149
        }
      ]
    },
    {
      "cell_type": "code",
      "source": [
        "#Checking Datatypes\n",
        "df.dtypes.value_counts()"
      ],
      "metadata": {
        "colab": {
          "base_uri": "https://localhost:8080/"
        },
        "id": "rAYp8j9LIdBo",
        "outputId": "b5fb3164-11d9-4128-b669-66543a5a735b"
      },
      "execution_count": null,
      "outputs": [
        {
          "output_type": "execute_result",
          "data": {
            "text/plain": [
              "float64    39\n",
              "int64      11\n",
              "dtype: int64"
            ]
          },
          "metadata": {},
          "execution_count": 150
        }
      ]
    },
    {
      "cell_type": "code",
      "source": [
        "#Checking the target column\n",
        "df['target'].value_counts()"
      ],
      "metadata": {
        "id": "6YMl4G8-89Z5",
        "colab": {
          "base_uri": "https://localhost:8080/"
        },
        "outputId": "b73b8cc2-5c79-43c9-ba94-3d3077c08cfd"
      },
      "execution_count": null,
      "outputs": [
        {
          "output_type": "execute_result",
          "data": {
            "text/plain": [
              "0    896\n",
              "1     41\n",
              "Name: target, dtype: int64"
            ]
          },
          "metadata": {},
          "execution_count": 151
        }
      ]
    },
    {
      "cell_type": "markdown",
      "source": [
        "0 is majority ,so it is a Non-Spill.\n",
        "\n",
        "1 is minority , so it is a oil spill."
      ],
      "metadata": {
        "id": "IYAyTkyiDlmk"
      }
    },
    {
      "cell_type": "markdown",
      "source": [
        "Scaling of Data Pre-Processing"
      ],
      "metadata": {
        "id": "Qcw2DMVS_1qv"
      }
    },
    {
      "cell_type": "code",
      "source": [
        "from sklearn.preprocessing import MinMaxScaler\n",
        "mms=MinMaxScaler()\n",
        "df_new=pd.DataFrame(mms.fit_transform(df),columns=df.columns)\n",
        "df_new.head()"
      ],
      "metadata": {
        "id": "IVmYZL_W-nKx",
        "colab": {
          "base_uri": "https://localhost:8080/",
          "height": 299
        },
        "outputId": "14b7a1bf-d67c-4251-ab44-4fd620d1d3e7"
      },
      "execution_count": null,
      "outputs": [
        {
          "output_type": "execute_result",
          "data": {
            "text/plain": [
              "        f_1       f_2       f_3       f_4       f_5       f_6       f_7  \\\n",
              "0  0.000000  0.078693  0.795369  0.167291  0.500000  0.088774  0.319870   \n",
              "1  0.002849  0.689181  0.040816  0.308430  1.000000  0.782405  0.486482   \n",
              "2  0.005698  0.003243  0.765631  0.223027  0.488889  0.003048  0.312378   \n",
              "3  0.008547  0.036783  0.825213  0.108185  0.366667  0.041157  0.344625   \n",
              "4  0.011396  0.009327  0.501465  0.161501  0.205556  0.009961  0.328827   \n",
              "\n",
              "        f_8       f_9      f_10  ...      f_41      f_42      f_43      f_44  \\\n",
              "0  0.295893  0.181873  0.236111  ...  0.238507  0.086957  0.079550  0.077489   \n",
              "1  0.015926  0.382532  0.000000  ...  0.481199  1.000000  1.000000  0.943179   \n",
              "2  0.272842  0.016699  0.222222  ...  0.117161  0.021739  0.015636  0.025816   \n",
              "3  0.299246  0.108469  0.236111  ...  0.505595  0.066224  0.047241  0.082929   \n",
              "4  0.259849  0.016761  0.208333  ...  0.110470  0.061794  0.053426  0.062444   \n",
              "\n",
              "       f_45  f_46      f_47      f_48      f_49  target  \n",
              "0  0.048675   0.0  0.587669  0.976721  0.222222     1.0  \n",
              "1  0.007830   0.0  0.932995  0.976393  0.046729     0.0  \n",
              "2  0.121754   1.0  0.558460  0.979016  0.210800     1.0  \n",
              "3  0.173953   1.0  0.671567  0.974426  0.234683     1.0  \n",
              "4  0.033668   0.0  0.508444  0.974098  0.159917     0.0  \n",
              "\n",
              "[5 rows x 50 columns]"
            ],
            "text/html": [
              "\n",
              "  <div id=\"df-71946d0f-6c44-4e85-8e95-31d158bb36ca\">\n",
              "    <div class=\"colab-df-container\">\n",
              "      <div>\n",
              "<style scoped>\n",
              "    .dataframe tbody tr th:only-of-type {\n",
              "        vertical-align: middle;\n",
              "    }\n",
              "\n",
              "    .dataframe tbody tr th {\n",
              "        vertical-align: top;\n",
              "    }\n",
              "\n",
              "    .dataframe thead th {\n",
              "        text-align: right;\n",
              "    }\n",
              "</style>\n",
              "<table border=\"1\" class=\"dataframe\">\n",
              "  <thead>\n",
              "    <tr style=\"text-align: right;\">\n",
              "      <th></th>\n",
              "      <th>f_1</th>\n",
              "      <th>f_2</th>\n",
              "      <th>f_3</th>\n",
              "      <th>f_4</th>\n",
              "      <th>f_5</th>\n",
              "      <th>f_6</th>\n",
              "      <th>f_7</th>\n",
              "      <th>f_8</th>\n",
              "      <th>f_9</th>\n",
              "      <th>f_10</th>\n",
              "      <th>...</th>\n",
              "      <th>f_41</th>\n",
              "      <th>f_42</th>\n",
              "      <th>f_43</th>\n",
              "      <th>f_44</th>\n",
              "      <th>f_45</th>\n",
              "      <th>f_46</th>\n",
              "      <th>f_47</th>\n",
              "      <th>f_48</th>\n",
              "      <th>f_49</th>\n",
              "      <th>target</th>\n",
              "    </tr>\n",
              "  </thead>\n",
              "  <tbody>\n",
              "    <tr>\n",
              "      <th>0</th>\n",
              "      <td>0.000000</td>\n",
              "      <td>0.078693</td>\n",
              "      <td>0.795369</td>\n",
              "      <td>0.167291</td>\n",
              "      <td>0.500000</td>\n",
              "      <td>0.088774</td>\n",
              "      <td>0.319870</td>\n",
              "      <td>0.295893</td>\n",
              "      <td>0.181873</td>\n",
              "      <td>0.236111</td>\n",
              "      <td>...</td>\n",
              "      <td>0.238507</td>\n",
              "      <td>0.086957</td>\n",
              "      <td>0.079550</td>\n",
              "      <td>0.077489</td>\n",
              "      <td>0.048675</td>\n",
              "      <td>0.0</td>\n",
              "      <td>0.587669</td>\n",
              "      <td>0.976721</td>\n",
              "      <td>0.222222</td>\n",
              "      <td>1.0</td>\n",
              "    </tr>\n",
              "    <tr>\n",
              "      <th>1</th>\n",
              "      <td>0.002849</td>\n",
              "      <td>0.689181</td>\n",
              "      <td>0.040816</td>\n",
              "      <td>0.308430</td>\n",
              "      <td>1.000000</td>\n",
              "      <td>0.782405</td>\n",
              "      <td>0.486482</td>\n",
              "      <td>0.015926</td>\n",
              "      <td>0.382532</td>\n",
              "      <td>0.000000</td>\n",
              "      <td>...</td>\n",
              "      <td>0.481199</td>\n",
              "      <td>1.000000</td>\n",
              "      <td>1.000000</td>\n",
              "      <td>0.943179</td>\n",
              "      <td>0.007830</td>\n",
              "      <td>0.0</td>\n",
              "      <td>0.932995</td>\n",
              "      <td>0.976393</td>\n",
              "      <td>0.046729</td>\n",
              "      <td>0.0</td>\n",
              "    </tr>\n",
              "    <tr>\n",
              "      <th>2</th>\n",
              "      <td>0.005698</td>\n",
              "      <td>0.003243</td>\n",
              "      <td>0.765631</td>\n",
              "      <td>0.223027</td>\n",
              "      <td>0.488889</td>\n",
              "      <td>0.003048</td>\n",
              "      <td>0.312378</td>\n",
              "      <td>0.272842</td>\n",
              "      <td>0.016699</td>\n",
              "      <td>0.222222</td>\n",
              "      <td>...</td>\n",
              "      <td>0.117161</td>\n",
              "      <td>0.021739</td>\n",
              "      <td>0.015636</td>\n",
              "      <td>0.025816</td>\n",
              "      <td>0.121754</td>\n",
              "      <td>1.0</td>\n",
              "      <td>0.558460</td>\n",
              "      <td>0.979016</td>\n",
              "      <td>0.210800</td>\n",
              "      <td>1.0</td>\n",
              "    </tr>\n",
              "    <tr>\n",
              "      <th>3</th>\n",
              "      <td>0.008547</td>\n",
              "      <td>0.036783</td>\n",
              "      <td>0.825213</td>\n",
              "      <td>0.108185</td>\n",
              "      <td>0.366667</td>\n",
              "      <td>0.041157</td>\n",
              "      <td>0.344625</td>\n",
              "      <td>0.299246</td>\n",
              "      <td>0.108469</td>\n",
              "      <td>0.236111</td>\n",
              "      <td>...</td>\n",
              "      <td>0.505595</td>\n",
              "      <td>0.066224</td>\n",
              "      <td>0.047241</td>\n",
              "      <td>0.082929</td>\n",
              "      <td>0.173953</td>\n",
              "      <td>1.0</td>\n",
              "      <td>0.671567</td>\n",
              "      <td>0.974426</td>\n",
              "      <td>0.234683</td>\n",
              "      <td>1.0</td>\n",
              "    </tr>\n",
              "    <tr>\n",
              "      <th>4</th>\n",
              "      <td>0.011396</td>\n",
              "      <td>0.009327</td>\n",
              "      <td>0.501465</td>\n",
              "      <td>0.161501</td>\n",
              "      <td>0.205556</td>\n",
              "      <td>0.009961</td>\n",
              "      <td>0.328827</td>\n",
              "      <td>0.259849</td>\n",
              "      <td>0.016761</td>\n",
              "      <td>0.208333</td>\n",
              "      <td>...</td>\n",
              "      <td>0.110470</td>\n",
              "      <td>0.061794</td>\n",
              "      <td>0.053426</td>\n",
              "      <td>0.062444</td>\n",
              "      <td>0.033668</td>\n",
              "      <td>0.0</td>\n",
              "      <td>0.508444</td>\n",
              "      <td>0.974098</td>\n",
              "      <td>0.159917</td>\n",
              "      <td>0.0</td>\n",
              "    </tr>\n",
              "  </tbody>\n",
              "</table>\n",
              "<p>5 rows × 50 columns</p>\n",
              "</div>\n",
              "      <button class=\"colab-df-convert\" onclick=\"convertToInteractive('df-71946d0f-6c44-4e85-8e95-31d158bb36ca')\"\n",
              "              title=\"Convert this dataframe to an interactive table.\"\n",
              "              style=\"display:none;\">\n",
              "        \n",
              "  <svg xmlns=\"http://www.w3.org/2000/svg\" height=\"24px\"viewBox=\"0 0 24 24\"\n",
              "       width=\"24px\">\n",
              "    <path d=\"M0 0h24v24H0V0z\" fill=\"none\"/>\n",
              "    <path d=\"M18.56 5.44l.94 2.06.94-2.06 2.06-.94-2.06-.94-.94-2.06-.94 2.06-2.06.94zm-11 1L8.5 8.5l.94-2.06 2.06-.94-2.06-.94L8.5 2.5l-.94 2.06-2.06.94zm10 10l.94 2.06.94-2.06 2.06-.94-2.06-.94-.94-2.06-.94 2.06-2.06.94z\"/><path d=\"M17.41 7.96l-1.37-1.37c-.4-.4-.92-.59-1.43-.59-.52 0-1.04.2-1.43.59L10.3 9.45l-7.72 7.72c-.78.78-.78 2.05 0 2.83L4 21.41c.39.39.9.59 1.41.59.51 0 1.02-.2 1.41-.59l7.78-7.78 2.81-2.81c.8-.78.8-2.07 0-2.86zM5.41 20L4 18.59l7.72-7.72 1.47 1.35L5.41 20z\"/>\n",
              "  </svg>\n",
              "      </button>\n",
              "      \n",
              "  <style>\n",
              "    .colab-df-container {\n",
              "      display:flex;\n",
              "      flex-wrap:wrap;\n",
              "      gap: 12px;\n",
              "    }\n",
              "\n",
              "    .colab-df-convert {\n",
              "      background-color: #E8F0FE;\n",
              "      border: none;\n",
              "      border-radius: 50%;\n",
              "      cursor: pointer;\n",
              "      display: none;\n",
              "      fill: #1967D2;\n",
              "      height: 32px;\n",
              "      padding: 0 0 0 0;\n",
              "      width: 32px;\n",
              "    }\n",
              "\n",
              "    .colab-df-convert:hover {\n",
              "      background-color: #E2EBFA;\n",
              "      box-shadow: 0px 1px 2px rgba(60, 64, 67, 0.3), 0px 1px 3px 1px rgba(60, 64, 67, 0.15);\n",
              "      fill: #174EA6;\n",
              "    }\n",
              "\n",
              "    [theme=dark] .colab-df-convert {\n",
              "      background-color: #3B4455;\n",
              "      fill: #D2E3FC;\n",
              "    }\n",
              "\n",
              "    [theme=dark] .colab-df-convert:hover {\n",
              "      background-color: #434B5C;\n",
              "      box-shadow: 0px 1px 3px 1px rgba(0, 0, 0, 0.15);\n",
              "      filter: drop-shadow(0px 1px 2px rgba(0, 0, 0, 0.3));\n",
              "      fill: #FFFFFF;\n",
              "    }\n",
              "  </style>\n",
              "\n",
              "      <script>\n",
              "        const buttonEl =\n",
              "          document.querySelector('#df-71946d0f-6c44-4e85-8e95-31d158bb36ca button.colab-df-convert');\n",
              "        buttonEl.style.display =\n",
              "          google.colab.kernel.accessAllowed ? 'block' : 'none';\n",
              "\n",
              "        async function convertToInteractive(key) {\n",
              "          const element = document.querySelector('#df-71946d0f-6c44-4e85-8e95-31d158bb36ca');\n",
              "          const dataTable =\n",
              "            await google.colab.kernel.invokeFunction('convertToInteractive',\n",
              "                                                     [key], {});\n",
              "          if (!dataTable) return;\n",
              "\n",
              "          const docLinkHtml = 'Like what you see? Visit the ' +\n",
              "            '<a target=\"_blank\" href=https://colab.research.google.com/notebooks/data_table.ipynb>data table notebook</a>'\n",
              "            + ' to learn more about interactive tables.';\n",
              "          element.innerHTML = '';\n",
              "          dataTable['output_type'] = 'display_data';\n",
              "          await google.colab.output.renderOutput(dataTable, element);\n",
              "          const docLink = document.createElement('div');\n",
              "          docLink.innerHTML = docLinkHtml;\n",
              "          element.appendChild(docLink);\n",
              "        }\n",
              "      </script>\n",
              "    </div>\n",
              "  </div>\n",
              "  "
            ]
          },
          "metadata": {},
          "execution_count": 152
        }
      ]
    },
    {
      "cell_type": "markdown",
      "source": [
        "###Apply various Machine Learning techniques to predict the output in target column,make use of Bagging and Ensemble as required and find the best model by evaluating the model using Model evaluation techniques.\n"
      ],
      "metadata": {
        "id": "gtogA81qRInL"
      }
    },
    {
      "cell_type": "code",
      "source": [
        "#Selecting dependent and independent features\n",
        "x=df_new.drop('target',axis=1)\n",
        "y=df_new['target']"
      ],
      "metadata": {
        "id": "2_uNmuFxAQ6y"
      },
      "execution_count": null,
      "outputs": []
    },
    {
      "cell_type": "code",
      "source": [
        "print(x.shape)\n",
        "print(y.shape)"
      ],
      "metadata": {
        "id": "7gMUxJ7WAD8c",
        "colab": {
          "base_uri": "https://localhost:8080/"
        },
        "outputId": "580299bc-14a0-4e99-ebee-3d05713ffd7c"
      },
      "execution_count": null,
      "outputs": [
        {
          "output_type": "stream",
          "name": "stdout",
          "text": [
            "(937, 49)\n",
            "(937,)\n"
          ]
        }
      ]
    },
    {
      "cell_type": "code",
      "source": [
        "from sklearn.model_selection import train_test_split\n",
        "x_train,x_test,y_train,y_test=train_test_split(x,y,test_size=0.3,random_state=2022)"
      ],
      "metadata": {
        "id": "Z-bGuW6P_7xi"
      },
      "execution_count": null,
      "outputs": []
    },
    {
      "cell_type": "markdown",
      "source": [
        "###LOGISTIC REGRESSION"
      ],
      "metadata": {
        "id": "iQe5DhQTEnj7"
      }
    },
    {
      "cell_type": "code",
      "source": [
        "print(x_train.shape)\n",
        "print(x_test.shape)\n",
        "print(y_train.shape)\n",
        "print(y_test.shape)"
      ],
      "metadata": {
        "id": "kr-U6kdhBQoC",
        "colab": {
          "base_uri": "https://localhost:8080/"
        },
        "outputId": "6c62eef7-f9a5-414f-e90b-5cb1820df146"
      },
      "execution_count": null,
      "outputs": [
        {
          "output_type": "stream",
          "name": "stdout",
          "text": [
            "(655, 49)\n",
            "(282, 49)\n",
            "(655,)\n",
            "(282,)\n"
          ]
        }
      ]
    },
    {
      "cell_type": "code",
      "source": [
        "from sklearn.linear_model import LogisticRegression\n",
        "lr=LogisticRegression()\n",
        "model_train_lr=lr.fit(x_train,y_train)\n",
        "y_train_predict=model_train_lr.predict(x_train)\n",
        "print(\"Accuracy Score Trainning dataset\",accuracy_score(y_train,y_train_predict)*100)"
      ],
      "metadata": {
        "id": "jvqm-GpuBlcD",
        "colab": {
          "base_uri": "https://localhost:8080/"
        },
        "outputId": "1bd03bb7-953f-49fa-f9b6-b616645d0a43"
      },
      "execution_count": null,
      "outputs": [
        {
          "output_type": "stream",
          "name": "stdout",
          "text": [
            "Accuracy Score Trainning dataset 95.72519083969465\n"
          ]
        }
      ]
    },
    {
      "cell_type": "code",
      "source": [
        "model_test_lr=lr.fit(x_test,y_test)\n",
        "y_test_predict=model_test_lr.predict(x_test)\n",
        "print(\"Accuracy Score Testing dataset\",accuracy_score(y_test,y_test_predict)*100)"
      ],
      "metadata": {
        "id": "uG7yhxcOEFUF",
        "colab": {
          "base_uri": "https://localhost:8080/"
        },
        "outputId": "86a41256-a73a-4c0f-caaa-9993c8172015"
      },
      "execution_count": null,
      "outputs": [
        {
          "output_type": "stream",
          "name": "stdout",
          "text": [
            "Accuracy Score Testing dataset 96.45390070921985\n"
          ]
        }
      ]
    },
    {
      "cell_type": "code",
      "source": [
        "from sklearn.metrics import confusion_matrix,accuracy_score,classification_report\n",
        "print(confusion_matrix(y_test,y_test_predict))\n",
        "print(classification_report(y_test,y_test_predict))"
      ],
      "metadata": {
        "id": "KqP0pqmFCWUh",
        "colab": {
          "base_uri": "https://localhost:8080/"
        },
        "outputId": "0c93867c-d08d-468a-9a9f-f5ce537cb3b1"
      },
      "execution_count": null,
      "outputs": [
        {
          "output_type": "stream",
          "name": "stdout",
          "text": [
            "[[272   0]\n",
            " [ 10   0]]\n",
            "              precision    recall  f1-score   support\n",
            "\n",
            "         0.0       0.96      1.00      0.98       272\n",
            "         1.0       0.00      0.00      0.00        10\n",
            "\n",
            "    accuracy                           0.96       282\n",
            "   macro avg       0.48      0.50      0.49       282\n",
            "weighted avg       0.93      0.96      0.95       282\n",
            "\n"
          ]
        },
        {
          "output_type": "stream",
          "name": "stderr",
          "text": [
            "/usr/local/lib/python3.10/dist-packages/sklearn/metrics/_classification.py:1344: UndefinedMetricWarning: Precision and F-score are ill-defined and being set to 0.0 in labels with no predicted samples. Use `zero_division` parameter to control this behavior.\n",
            "  _warn_prf(average, modifier, msg_start, len(result))\n",
            "/usr/local/lib/python3.10/dist-packages/sklearn/metrics/_classification.py:1344: UndefinedMetricWarning: Precision and F-score are ill-defined and being set to 0.0 in labels with no predicted samples. Use `zero_division` parameter to control this behavior.\n",
            "  _warn_prf(average, modifier, msg_start, len(result))\n",
            "/usr/local/lib/python3.10/dist-packages/sklearn/metrics/_classification.py:1344: UndefinedMetricWarning: Precision and F-score are ill-defined and being set to 0.0 in labels with no predicted samples. Use `zero_division` parameter to control this behavior.\n",
            "  _warn_prf(average, modifier, msg_start, len(result))\n"
          ]
        }
      ]
    },
    {
      "cell_type": "code",
      "source": [
        "mae = mean_absolute_error(y_test,y_test_predict)\n",
        "mse = mean_squared_error(y_test,y_test_predict)\n",
        "rmse = np.sqrt(mse)\n",
        "print(mae)\n",
        "print(mse)\n",
        "print(rmse)"
      ],
      "metadata": {
        "id": "gRnF30lv4C4Y",
        "colab": {
          "base_uri": "https://localhost:8080/"
        },
        "outputId": "0e0904f9-c5eb-4f45-d4f4-1324ea7934fc"
      },
      "execution_count": null,
      "outputs": [
        {
          "output_type": "stream",
          "name": "stdout",
          "text": [
            "0.03546099290780142\n",
            "0.03546099290780142\n",
            "0.18831089428867737\n"
          ]
        }
      ]
    },
    {
      "cell_type": "code",
      "source": [
        "from sklearn.metrics import confusion_matrix,classification_report,accuracy_score\n",
        "def eval_model(model,ytest,ypred):\n",
        "    cm = confusion_matrix(ytest,ypred)\n",
        "    acc=accuracy_score(ytest,ypred)\n",
        "    print(cm)\n",
        "    print('Accuracy Score',acc)\n",
        "    print(classification_report(ytest,ypred))\n",
        "\n",
        "\n",
        "\n",
        "\n",
        "def mscore(model):\n",
        "    print('Training Score',model.score(x_train,y_train))\n",
        "    print('Testing Score',model.score(x_test,y_test))\n"
      ],
      "metadata": {
        "id": "cXd_WexILSe4"
      },
      "execution_count": null,
      "outputs": []
    },
    {
      "cell_type": "markdown",
      "source": [
        "###Bagging Method"
      ],
      "metadata": {
        "id": "0kvuuNNrgiGT"
      }
    },
    {
      "cell_type": "code",
      "source": [
        "#Importing the libraries for Model Building\n",
        "from sklearn.tree import DecisionTreeClassifier\n",
        "from sklearn.ensemble import BaggingClassifier"
      ],
      "metadata": {
        "id": "VXZAklLvgmcF"
      },
      "execution_count": null,
      "outputs": []
    },
    {
      "cell_type": "code",
      "source": [
        "dtc=DecisionTreeClassifier(criterion='gini',max_depth=10,min_samples_split=20)"
      ],
      "metadata": {
        "id": "aCjDt55Lhpiq"
      },
      "execution_count": null,
      "outputs": []
    },
    {
      "cell_type": "code",
      "source": [
        "x.shape[0]"
      ],
      "metadata": {
        "colab": {
          "base_uri": "https://localhost:8080/"
        },
        "id": "9f28XIwHI1bM",
        "outputId": "01166f72-e17e-4447-98f0-5cc8d5fa0c38"
      },
      "execution_count": null,
      "outputs": [
        {
          "output_type": "execute_result",
          "data": {
            "text/plain": [
              "937"
            ]
          },
          "metadata": {},
          "execution_count": 164
        }
      ]
    },
    {
      "cell_type": "code",
      "source": [
        "x.shape[1]"
      ],
      "metadata": {
        "colab": {
          "base_uri": "https://localhost:8080/"
        },
        "id": "Sm50MvwZJCn0",
        "outputId": "0bac619b-9a0f-40a5-f4a7-3f13b37d8917"
      },
      "execution_count": null,
      "outputs": [
        {
          "output_type": "execute_result",
          "data": {
            "text/plain": [
              "49"
            ]
          },
          "metadata": {},
          "execution_count": 165
        }
      ]
    },
    {
      "cell_type": "code",
      "source": [
        "bc_dtc=BaggingClassifier(base_estimator=dtc,n_estimators=15,max_samples=x.shape[0],max_features=x.shape[1],random_state=2022)\n",
        "bc_dtc.fit(x,y)"
      ],
      "metadata": {
        "id": "jIG_R16xGnbx",
        "colab": {
          "base_uri": "https://localhost:8080/",
          "height": 174
        },
        "outputId": "b0c0ccf0-af3c-4e02-b88b-b0e9cdfb0ccd"
      },
      "execution_count": null,
      "outputs": [
        {
          "output_type": "stream",
          "name": "stderr",
          "text": [
            "/usr/local/lib/python3.10/dist-packages/sklearn/ensemble/_base.py:166: FutureWarning: `base_estimator` was renamed to `estimator` in version 1.2 and will be removed in 1.4.\n",
            "  warnings.warn(\n"
          ]
        },
        {
          "output_type": "execute_result",
          "data": {
            "text/plain": [
              "BaggingClassifier(base_estimator=DecisionTreeClassifier(max_depth=10,\n",
              "                                                        min_samples_split=20),\n",
              "                  max_features=49, max_samples=937, n_estimators=15,\n",
              "                  random_state=2022)"
            ],
            "text/html": [
              "<style>#sk-container-id-7 {color: black;background-color: white;}#sk-container-id-7 pre{padding: 0;}#sk-container-id-7 div.sk-toggleable {background-color: white;}#sk-container-id-7 label.sk-toggleable__label {cursor: pointer;display: block;width: 100%;margin-bottom: 0;padding: 0.3em;box-sizing: border-box;text-align: center;}#sk-container-id-7 label.sk-toggleable__label-arrow:before {content: \"▸\";float: left;margin-right: 0.25em;color: #696969;}#sk-container-id-7 label.sk-toggleable__label-arrow:hover:before {color: black;}#sk-container-id-7 div.sk-estimator:hover label.sk-toggleable__label-arrow:before {color: black;}#sk-container-id-7 div.sk-toggleable__content {max-height: 0;max-width: 0;overflow: hidden;text-align: left;background-color: #f0f8ff;}#sk-container-id-7 div.sk-toggleable__content pre {margin: 0.2em;color: black;border-radius: 0.25em;background-color: #f0f8ff;}#sk-container-id-7 input.sk-toggleable__control:checked~div.sk-toggleable__content {max-height: 200px;max-width: 100%;overflow: auto;}#sk-container-id-7 input.sk-toggleable__control:checked~label.sk-toggleable__label-arrow:before {content: \"▾\";}#sk-container-id-7 div.sk-estimator input.sk-toggleable__control:checked~label.sk-toggleable__label {background-color: #d4ebff;}#sk-container-id-7 div.sk-label input.sk-toggleable__control:checked~label.sk-toggleable__label {background-color: #d4ebff;}#sk-container-id-7 input.sk-hidden--visually {border: 0;clip: rect(1px 1px 1px 1px);clip: rect(1px, 1px, 1px, 1px);height: 1px;margin: -1px;overflow: hidden;padding: 0;position: absolute;width: 1px;}#sk-container-id-7 div.sk-estimator {font-family: monospace;background-color: #f0f8ff;border: 1px dotted black;border-radius: 0.25em;box-sizing: border-box;margin-bottom: 0.5em;}#sk-container-id-7 div.sk-estimator:hover {background-color: #d4ebff;}#sk-container-id-7 div.sk-parallel-item::after {content: \"\";width: 100%;border-bottom: 1px solid gray;flex-grow: 1;}#sk-container-id-7 div.sk-label:hover label.sk-toggleable__label {background-color: #d4ebff;}#sk-container-id-7 div.sk-serial::before {content: \"\";position: absolute;border-left: 1px solid gray;box-sizing: border-box;top: 0;bottom: 0;left: 50%;z-index: 0;}#sk-container-id-7 div.sk-serial {display: flex;flex-direction: column;align-items: center;background-color: white;padding-right: 0.2em;padding-left: 0.2em;position: relative;}#sk-container-id-7 div.sk-item {position: relative;z-index: 1;}#sk-container-id-7 div.sk-parallel {display: flex;align-items: stretch;justify-content: center;background-color: white;position: relative;}#sk-container-id-7 div.sk-item::before, #sk-container-id-7 div.sk-parallel-item::before {content: \"\";position: absolute;border-left: 1px solid gray;box-sizing: border-box;top: 0;bottom: 0;left: 50%;z-index: -1;}#sk-container-id-7 div.sk-parallel-item {display: flex;flex-direction: column;z-index: 1;position: relative;background-color: white;}#sk-container-id-7 div.sk-parallel-item:first-child::after {align-self: flex-end;width: 50%;}#sk-container-id-7 div.sk-parallel-item:last-child::after {align-self: flex-start;width: 50%;}#sk-container-id-7 div.sk-parallel-item:only-child::after {width: 0;}#sk-container-id-7 div.sk-dashed-wrapped {border: 1px dashed gray;margin: 0 0.4em 0.5em 0.4em;box-sizing: border-box;padding-bottom: 0.4em;background-color: white;}#sk-container-id-7 div.sk-label label {font-family: monospace;font-weight: bold;display: inline-block;line-height: 1.2em;}#sk-container-id-7 div.sk-label-container {text-align: center;}#sk-container-id-7 div.sk-container {/* jupyter's `normalize.less` sets `[hidden] { display: none; }` but bootstrap.min.css set `[hidden] { display: none !important; }` so we also need the `!important` here to be able to override the default hidden behavior on the sphinx rendered scikit-learn.org. See: https://github.com/scikit-learn/scikit-learn/issues/21755 */display: inline-block !important;position: relative;}#sk-container-id-7 div.sk-text-repr-fallback {display: none;}</style><div id=\"sk-container-id-7\" class=\"sk-top-container\"><div class=\"sk-text-repr-fallback\"><pre>BaggingClassifier(base_estimator=DecisionTreeClassifier(max_depth=10,\n",
              "                                                        min_samples_split=20),\n",
              "                  max_features=49, max_samples=937, n_estimators=15,\n",
              "                  random_state=2022)</pre><b>In a Jupyter environment, please rerun this cell to show the HTML representation or trust the notebook. <br />On GitHub, the HTML representation is unable to render, please try loading this page with nbviewer.org.</b></div><div class=\"sk-container\" hidden><div class=\"sk-item sk-dashed-wrapped\"><div class=\"sk-label-container\"><div class=\"sk-label sk-toggleable\"><input class=\"sk-toggleable__control sk-hidden--visually\" id=\"sk-estimator-id-15\" type=\"checkbox\" ><label for=\"sk-estimator-id-15\" class=\"sk-toggleable__label sk-toggleable__label-arrow\">BaggingClassifier</label><div class=\"sk-toggleable__content\"><pre>BaggingClassifier(base_estimator=DecisionTreeClassifier(max_depth=10,\n",
              "                                                        min_samples_split=20),\n",
              "                  max_features=49, max_samples=937, n_estimators=15,\n",
              "                  random_state=2022)</pre></div></div></div><div class=\"sk-parallel\"><div class=\"sk-parallel-item\"><div class=\"sk-item\"><div class=\"sk-label-container\"><div class=\"sk-label sk-toggleable\"><input class=\"sk-toggleable__control sk-hidden--visually\" id=\"sk-estimator-id-16\" type=\"checkbox\" ><label for=\"sk-estimator-id-16\" class=\"sk-toggleable__label sk-toggleable__label-arrow\">base_estimator: DecisionTreeClassifier</label><div class=\"sk-toggleable__content\"><pre>DecisionTreeClassifier(max_depth=10, min_samples_split=20)</pre></div></div></div><div class=\"sk-serial\"><div class=\"sk-item\"><div class=\"sk-estimator sk-toggleable\"><input class=\"sk-toggleable__control sk-hidden--visually\" id=\"sk-estimator-id-17\" type=\"checkbox\" ><label for=\"sk-estimator-id-17\" class=\"sk-toggleable__label sk-toggleable__label-arrow\">DecisionTreeClassifier</label><div class=\"sk-toggleable__content\"><pre>DecisionTreeClassifier(max_depth=10, min_samples_split=20)</pre></div></div></div></div></div></div></div></div></div></div>"
            ]
          },
          "metadata": {},
          "execution_count": 166
        }
      ]
    },
    {
      "cell_type": "code",
      "source": [
        "mscore(bc_dtc)"
      ],
      "metadata": {
        "colab": {
          "base_uri": "https://localhost:8080/"
        },
        "id": "1brH5GFYLePz",
        "outputId": "7d3a4f0a-df5c-409b-96c3-a3829708bb9d"
      },
      "execution_count": null,
      "outputs": [
        {
          "output_type": "stream",
          "name": "stdout",
          "text": [
            "Training Score 0.9770992366412213\n",
            "Testing Score 0.9787234042553191\n"
          ]
        }
      ]
    },
    {
      "cell_type": "code",
      "source": [
        "y_pred_bd=bc_dtc.predict(x_test)"
      ],
      "metadata": {
        "id": "CqDVW2E5pLne"
      },
      "execution_count": null,
      "outputs": []
    },
    {
      "cell_type": "code",
      "source": [
        "eval_model(bc_dtc,y_test,y_pred_bd)"
      ],
      "metadata": {
        "colab": {
          "base_uri": "https://localhost:8080/"
        },
        "id": "ZCya4B8aM95D",
        "outputId": "c8cd7de9-2e1b-451b-ce60-312cf7016857"
      },
      "execution_count": null,
      "outputs": [
        {
          "output_type": "stream",
          "name": "stdout",
          "text": [
            "[[272   0]\n",
            " [  6   4]]\n",
            "Accuracy Score 0.9787234042553191\n",
            "              precision    recall  f1-score   support\n",
            "\n",
            "         0.0       0.98      1.00      0.99       272\n",
            "         1.0       1.00      0.40      0.57        10\n",
            "\n",
            "    accuracy                           0.98       282\n",
            "   macro avg       0.99      0.70      0.78       282\n",
            "weighted avg       0.98      0.98      0.97       282\n",
            "\n"
          ]
        }
      ]
    },
    {
      "cell_type": "markdown",
      "source": [
        "### AdaBoost method"
      ],
      "metadata": {
        "id": "KKozLeJUnXI5"
      }
    },
    {
      "cell_type": "code",
      "source": [
        "from sklearn.ensemble import AdaBoostClassifier"
      ],
      "metadata": {
        "id": "TTPUhmuyniBa"
      },
      "execution_count": null,
      "outputs": []
    },
    {
      "cell_type": "code",
      "source": [
        "tree = DecisionTreeClassifier(random_state=2022,max_depth=3,criterion='entropy',min_samples_split=8)"
      ],
      "metadata": {
        "id": "3ldgcABCnMls"
      },
      "execution_count": null,
      "outputs": []
    },
    {
      "cell_type": "code",
      "source": [
        "ada_boost = AdaBoostClassifier(base_estimator=tree,n_estimators=80)\n",
        "ada_boost.fit(x_train,y_train)"
      ],
      "metadata": {
        "colab": {
          "base_uri": "https://localhost:8080/",
          "height": 174
        },
        "id": "gLp9P5Lhnd4p",
        "outputId": "1525065e-ae91-49ee-fb0c-52b99e3103fe"
      },
      "execution_count": null,
      "outputs": [
        {
          "output_type": "stream",
          "name": "stderr",
          "text": [
            "/usr/local/lib/python3.10/dist-packages/sklearn/ensemble/_base.py:166: FutureWarning: `base_estimator` was renamed to `estimator` in version 1.2 and will be removed in 1.4.\n",
            "  warnings.warn(\n"
          ]
        },
        {
          "output_type": "execute_result",
          "data": {
            "text/plain": [
              "AdaBoostClassifier(base_estimator=DecisionTreeClassifier(criterion='entropy',\n",
              "                                                         max_depth=3,\n",
              "                                                         min_samples_split=8,\n",
              "                                                         random_state=2022),\n",
              "                   n_estimators=80)"
            ],
            "text/html": [
              "<style>#sk-container-id-8 {color: black;background-color: white;}#sk-container-id-8 pre{padding: 0;}#sk-container-id-8 div.sk-toggleable {background-color: white;}#sk-container-id-8 label.sk-toggleable__label {cursor: pointer;display: block;width: 100%;margin-bottom: 0;padding: 0.3em;box-sizing: border-box;text-align: center;}#sk-container-id-8 label.sk-toggleable__label-arrow:before {content: \"▸\";float: left;margin-right: 0.25em;color: #696969;}#sk-container-id-8 label.sk-toggleable__label-arrow:hover:before {color: black;}#sk-container-id-8 div.sk-estimator:hover label.sk-toggleable__label-arrow:before {color: black;}#sk-container-id-8 div.sk-toggleable__content {max-height: 0;max-width: 0;overflow: hidden;text-align: left;background-color: #f0f8ff;}#sk-container-id-8 div.sk-toggleable__content pre {margin: 0.2em;color: black;border-radius: 0.25em;background-color: #f0f8ff;}#sk-container-id-8 input.sk-toggleable__control:checked~div.sk-toggleable__content {max-height: 200px;max-width: 100%;overflow: auto;}#sk-container-id-8 input.sk-toggleable__control:checked~label.sk-toggleable__label-arrow:before {content: \"▾\";}#sk-container-id-8 div.sk-estimator input.sk-toggleable__control:checked~label.sk-toggleable__label {background-color: #d4ebff;}#sk-container-id-8 div.sk-label input.sk-toggleable__control:checked~label.sk-toggleable__label {background-color: #d4ebff;}#sk-container-id-8 input.sk-hidden--visually {border: 0;clip: rect(1px 1px 1px 1px);clip: rect(1px, 1px, 1px, 1px);height: 1px;margin: -1px;overflow: hidden;padding: 0;position: absolute;width: 1px;}#sk-container-id-8 div.sk-estimator {font-family: monospace;background-color: #f0f8ff;border: 1px dotted black;border-radius: 0.25em;box-sizing: border-box;margin-bottom: 0.5em;}#sk-container-id-8 div.sk-estimator:hover {background-color: #d4ebff;}#sk-container-id-8 div.sk-parallel-item::after {content: \"\";width: 100%;border-bottom: 1px solid gray;flex-grow: 1;}#sk-container-id-8 div.sk-label:hover label.sk-toggleable__label {background-color: #d4ebff;}#sk-container-id-8 div.sk-serial::before {content: \"\";position: absolute;border-left: 1px solid gray;box-sizing: border-box;top: 0;bottom: 0;left: 50%;z-index: 0;}#sk-container-id-8 div.sk-serial {display: flex;flex-direction: column;align-items: center;background-color: white;padding-right: 0.2em;padding-left: 0.2em;position: relative;}#sk-container-id-8 div.sk-item {position: relative;z-index: 1;}#sk-container-id-8 div.sk-parallel {display: flex;align-items: stretch;justify-content: center;background-color: white;position: relative;}#sk-container-id-8 div.sk-item::before, #sk-container-id-8 div.sk-parallel-item::before {content: \"\";position: absolute;border-left: 1px solid gray;box-sizing: border-box;top: 0;bottom: 0;left: 50%;z-index: -1;}#sk-container-id-8 div.sk-parallel-item {display: flex;flex-direction: column;z-index: 1;position: relative;background-color: white;}#sk-container-id-8 div.sk-parallel-item:first-child::after {align-self: flex-end;width: 50%;}#sk-container-id-8 div.sk-parallel-item:last-child::after {align-self: flex-start;width: 50%;}#sk-container-id-8 div.sk-parallel-item:only-child::after {width: 0;}#sk-container-id-8 div.sk-dashed-wrapped {border: 1px dashed gray;margin: 0 0.4em 0.5em 0.4em;box-sizing: border-box;padding-bottom: 0.4em;background-color: white;}#sk-container-id-8 div.sk-label label {font-family: monospace;font-weight: bold;display: inline-block;line-height: 1.2em;}#sk-container-id-8 div.sk-label-container {text-align: center;}#sk-container-id-8 div.sk-container {/* jupyter's `normalize.less` sets `[hidden] { display: none; }` but bootstrap.min.css set `[hidden] { display: none !important; }` so we also need the `!important` here to be able to override the default hidden behavior on the sphinx rendered scikit-learn.org. See: https://github.com/scikit-learn/scikit-learn/issues/21755 */display: inline-block !important;position: relative;}#sk-container-id-8 div.sk-text-repr-fallback {display: none;}</style><div id=\"sk-container-id-8\" class=\"sk-top-container\"><div class=\"sk-text-repr-fallback\"><pre>AdaBoostClassifier(base_estimator=DecisionTreeClassifier(criterion=&#x27;entropy&#x27;,\n",
              "                                                         max_depth=3,\n",
              "                                                         min_samples_split=8,\n",
              "                                                         random_state=2022),\n",
              "                   n_estimators=80)</pre><b>In a Jupyter environment, please rerun this cell to show the HTML representation or trust the notebook. <br />On GitHub, the HTML representation is unable to render, please try loading this page with nbviewer.org.</b></div><div class=\"sk-container\" hidden><div class=\"sk-item sk-dashed-wrapped\"><div class=\"sk-label-container\"><div class=\"sk-label sk-toggleable\"><input class=\"sk-toggleable__control sk-hidden--visually\" id=\"sk-estimator-id-18\" type=\"checkbox\" ><label for=\"sk-estimator-id-18\" class=\"sk-toggleable__label sk-toggleable__label-arrow\">AdaBoostClassifier</label><div class=\"sk-toggleable__content\"><pre>AdaBoostClassifier(base_estimator=DecisionTreeClassifier(criterion=&#x27;entropy&#x27;,\n",
              "                                                         max_depth=3,\n",
              "                                                         min_samples_split=8,\n",
              "                                                         random_state=2022),\n",
              "                   n_estimators=80)</pre></div></div></div><div class=\"sk-parallel\"><div class=\"sk-parallel-item\"><div class=\"sk-item\"><div class=\"sk-label-container\"><div class=\"sk-label sk-toggleable\"><input class=\"sk-toggleable__control sk-hidden--visually\" id=\"sk-estimator-id-19\" type=\"checkbox\" ><label for=\"sk-estimator-id-19\" class=\"sk-toggleable__label sk-toggleable__label-arrow\">base_estimator: DecisionTreeClassifier</label><div class=\"sk-toggleable__content\"><pre>DecisionTreeClassifier(criterion=&#x27;entropy&#x27;, max_depth=3, min_samples_split=8,\n",
              "                       random_state=2022)</pre></div></div></div><div class=\"sk-serial\"><div class=\"sk-item\"><div class=\"sk-estimator sk-toggleable\"><input class=\"sk-toggleable__control sk-hidden--visually\" id=\"sk-estimator-id-20\" type=\"checkbox\" ><label for=\"sk-estimator-id-20\" class=\"sk-toggleable__label sk-toggleable__label-arrow\">DecisionTreeClassifier</label><div class=\"sk-toggleable__content\"><pre>DecisionTreeClassifier(criterion=&#x27;entropy&#x27;, max_depth=3, min_samples_split=8,\n",
              "                       random_state=2022)</pre></div></div></div></div></div></div></div></div></div></div>"
            ]
          },
          "metadata": {},
          "execution_count": 172
        }
      ]
    },
    {
      "cell_type": "code",
      "source": [
        "mscore(ada_boost)"
      ],
      "metadata": {
        "colab": {
          "base_uri": "https://localhost:8080/"
        },
        "id": "7AsC4e2un0to",
        "outputId": "a3946290-4293-4c88-b9df-3eb7410bd8b4"
      },
      "execution_count": null,
      "outputs": [
        {
          "output_type": "stream",
          "name": "stdout",
          "text": [
            "Training Score 1.0\n",
            "Testing Score 0.9716312056737588\n"
          ]
        }
      ]
    },
    {
      "cell_type": "code",
      "source": [
        "y_pred_ab=ada_boost.predict(x_test)"
      ],
      "metadata": {
        "id": "G6zXLrBGo4t1"
      },
      "execution_count": null,
      "outputs": []
    },
    {
      "cell_type": "code",
      "source": [
        "y_pred_ab"
      ],
      "metadata": {
        "colab": {
          "base_uri": "https://localhost:8080/"
        },
        "id": "XPtekBCmuh6W",
        "outputId": "39a8e55c-c951-4279-90df-e0652bfec5df"
      },
      "execution_count": null,
      "outputs": [
        {
          "output_type": "execute_result",
          "data": {
            "text/plain": [
              "array([0., 0., 0., 0., 0., 0., 0., 0., 0., 0., 0., 0., 0., 0., 0., 0., 0.,\n",
              "       0., 0., 0., 0., 0., 0., 0., 0., 0., 0., 0., 0., 0., 0., 0., 0., 0.,\n",
              "       0., 0., 0., 0., 0., 0., 0., 0., 0., 0., 0., 0., 0., 0., 0., 0., 0.,\n",
              "       0., 0., 0., 0., 0., 0., 0., 0., 0., 0., 0., 0., 0., 0., 0., 0., 0.,\n",
              "       0., 0., 0., 0., 0., 0., 0., 0., 0., 0., 0., 0., 0., 0., 0., 0., 0.,\n",
              "       0., 0., 1., 0., 0., 0., 1., 0., 0., 0., 0., 0., 0., 0., 0., 0., 0.,\n",
              "       1., 0., 0., 0., 0., 0., 0., 0., 0., 0., 0., 0., 0., 0., 0., 0., 0.,\n",
              "       0., 0., 0., 0., 0., 0., 0., 0., 0., 0., 0., 0., 0., 0., 0., 0., 0.,\n",
              "       0., 0., 0., 0., 0., 0., 0., 0., 0., 0., 0., 0., 0., 0., 0., 0., 0.,\n",
              "       0., 0., 0., 0., 0., 0., 0., 0., 0., 0., 0., 0., 0., 0., 0., 0., 0.,\n",
              "       0., 0., 0., 0., 0., 0., 0., 0., 0., 0., 0., 0., 0., 0., 0., 0., 0.,\n",
              "       0., 0., 0., 0., 0., 0., 0., 0., 0., 0., 0., 0., 0., 0., 0., 0., 0.,\n",
              "       0., 0., 0., 0., 0., 0., 0., 0., 0., 0., 0., 0., 0., 0., 0., 0., 0.,\n",
              "       0., 0., 0., 0., 0., 0., 0., 0., 0., 0., 0., 0., 0., 1., 0., 0., 0.,\n",
              "       0., 0., 0., 0., 0., 0., 0., 0., 0., 0., 0., 0., 0., 0., 0., 0., 0.,\n",
              "       0., 0., 0., 0., 0., 0., 0., 0., 0., 0., 0., 0., 0., 0., 0., 0., 0.,\n",
              "       0., 0., 0., 0., 0., 0., 0., 0., 0., 0.])"
            ]
          },
          "metadata": {},
          "execution_count": 175
        }
      ]
    },
    {
      "cell_type": "code",
      "source": [
        "eval_model(ada_boost,y_test,y_pred_ab)"
      ],
      "metadata": {
        "colab": {
          "base_uri": "https://localhost:8080/"
        },
        "id": "D9vFiHBooJxv",
        "outputId": "b4c55d52-7e84-4096-87b1-450c8edd23cf"
      },
      "execution_count": null,
      "outputs": [
        {
          "output_type": "stream",
          "name": "stdout",
          "text": [
            "[[271   1]\n",
            " [  7   3]]\n",
            "Accuracy Score 0.9716312056737588\n",
            "              precision    recall  f1-score   support\n",
            "\n",
            "         0.0       0.97      1.00      0.99       272\n",
            "         1.0       0.75      0.30      0.43        10\n",
            "\n",
            "    accuracy                           0.97       282\n",
            "   macro avg       0.86      0.65      0.71       282\n",
            "weighted avg       0.97      0.97      0.97       282\n",
            "\n"
          ]
        }
      ]
    },
    {
      "cell_type": "markdown",
      "source": [
        "Random Forest"
      ],
      "metadata": {
        "id": "rEHnUDzcsQ-M"
      }
    },
    {
      "cell_type": "code",
      "source": [
        "from sklearn.ensemble import RandomForestClassifier"
      ],
      "metadata": {
        "id": "qrYD-9jvsXj0"
      },
      "execution_count": null,
      "outputs": []
    },
    {
      "cell_type": "code",
      "source": [
        "rand_for=RandomForestClassifier(n_estimators=80,criterion='gini',min_samples_split=20,max_depth=8)"
      ],
      "metadata": {
        "id": "Mkslmqe1sUkO"
      },
      "execution_count": null,
      "outputs": []
    },
    {
      "cell_type": "code",
      "source": [
        "rand_for.fit(x_train,y_train)"
      ],
      "metadata": {
        "colab": {
          "base_uri": "https://localhost:8080/",
          "height": 74
        },
        "id": "YWWvSTW6tbZ5",
        "outputId": "489aa609-7033-4810-e6c2-d8d46b5dbe7b"
      },
      "execution_count": null,
      "outputs": [
        {
          "output_type": "execute_result",
          "data": {
            "text/plain": [
              "RandomForestClassifier(max_depth=8, min_samples_split=20, n_estimators=80)"
            ],
            "text/html": [
              "<style>#sk-container-id-9 {color: black;background-color: white;}#sk-container-id-9 pre{padding: 0;}#sk-container-id-9 div.sk-toggleable {background-color: white;}#sk-container-id-9 label.sk-toggleable__label {cursor: pointer;display: block;width: 100%;margin-bottom: 0;padding: 0.3em;box-sizing: border-box;text-align: center;}#sk-container-id-9 label.sk-toggleable__label-arrow:before {content: \"▸\";float: left;margin-right: 0.25em;color: #696969;}#sk-container-id-9 label.sk-toggleable__label-arrow:hover:before {color: black;}#sk-container-id-9 div.sk-estimator:hover label.sk-toggleable__label-arrow:before {color: black;}#sk-container-id-9 div.sk-toggleable__content {max-height: 0;max-width: 0;overflow: hidden;text-align: left;background-color: #f0f8ff;}#sk-container-id-9 div.sk-toggleable__content pre {margin: 0.2em;color: black;border-radius: 0.25em;background-color: #f0f8ff;}#sk-container-id-9 input.sk-toggleable__control:checked~div.sk-toggleable__content {max-height: 200px;max-width: 100%;overflow: auto;}#sk-container-id-9 input.sk-toggleable__control:checked~label.sk-toggleable__label-arrow:before {content: \"▾\";}#sk-container-id-9 div.sk-estimator input.sk-toggleable__control:checked~label.sk-toggleable__label {background-color: #d4ebff;}#sk-container-id-9 div.sk-label input.sk-toggleable__control:checked~label.sk-toggleable__label {background-color: #d4ebff;}#sk-container-id-9 input.sk-hidden--visually {border: 0;clip: rect(1px 1px 1px 1px);clip: rect(1px, 1px, 1px, 1px);height: 1px;margin: -1px;overflow: hidden;padding: 0;position: absolute;width: 1px;}#sk-container-id-9 div.sk-estimator {font-family: monospace;background-color: #f0f8ff;border: 1px dotted black;border-radius: 0.25em;box-sizing: border-box;margin-bottom: 0.5em;}#sk-container-id-9 div.sk-estimator:hover {background-color: #d4ebff;}#sk-container-id-9 div.sk-parallel-item::after {content: \"\";width: 100%;border-bottom: 1px solid gray;flex-grow: 1;}#sk-container-id-9 div.sk-label:hover label.sk-toggleable__label {background-color: #d4ebff;}#sk-container-id-9 div.sk-serial::before {content: \"\";position: absolute;border-left: 1px solid gray;box-sizing: border-box;top: 0;bottom: 0;left: 50%;z-index: 0;}#sk-container-id-9 div.sk-serial {display: flex;flex-direction: column;align-items: center;background-color: white;padding-right: 0.2em;padding-left: 0.2em;position: relative;}#sk-container-id-9 div.sk-item {position: relative;z-index: 1;}#sk-container-id-9 div.sk-parallel {display: flex;align-items: stretch;justify-content: center;background-color: white;position: relative;}#sk-container-id-9 div.sk-item::before, #sk-container-id-9 div.sk-parallel-item::before {content: \"\";position: absolute;border-left: 1px solid gray;box-sizing: border-box;top: 0;bottom: 0;left: 50%;z-index: -1;}#sk-container-id-9 div.sk-parallel-item {display: flex;flex-direction: column;z-index: 1;position: relative;background-color: white;}#sk-container-id-9 div.sk-parallel-item:first-child::after {align-self: flex-end;width: 50%;}#sk-container-id-9 div.sk-parallel-item:last-child::after {align-self: flex-start;width: 50%;}#sk-container-id-9 div.sk-parallel-item:only-child::after {width: 0;}#sk-container-id-9 div.sk-dashed-wrapped {border: 1px dashed gray;margin: 0 0.4em 0.5em 0.4em;box-sizing: border-box;padding-bottom: 0.4em;background-color: white;}#sk-container-id-9 div.sk-label label {font-family: monospace;font-weight: bold;display: inline-block;line-height: 1.2em;}#sk-container-id-9 div.sk-label-container {text-align: center;}#sk-container-id-9 div.sk-container {/* jupyter's `normalize.less` sets `[hidden] { display: none; }` but bootstrap.min.css set `[hidden] { display: none !important; }` so we also need the `!important` here to be able to override the default hidden behavior on the sphinx rendered scikit-learn.org. See: https://github.com/scikit-learn/scikit-learn/issues/21755 */display: inline-block !important;position: relative;}#sk-container-id-9 div.sk-text-repr-fallback {display: none;}</style><div id=\"sk-container-id-9\" class=\"sk-top-container\"><div class=\"sk-text-repr-fallback\"><pre>RandomForestClassifier(max_depth=8, min_samples_split=20, n_estimators=80)</pre><b>In a Jupyter environment, please rerun this cell to show the HTML representation or trust the notebook. <br />On GitHub, the HTML representation is unable to render, please try loading this page with nbviewer.org.</b></div><div class=\"sk-container\" hidden><div class=\"sk-item\"><div class=\"sk-estimator sk-toggleable\"><input class=\"sk-toggleable__control sk-hidden--visually\" id=\"sk-estimator-id-21\" type=\"checkbox\" checked><label for=\"sk-estimator-id-21\" class=\"sk-toggleable__label sk-toggleable__label-arrow\">RandomForestClassifier</label><div class=\"sk-toggleable__content\"><pre>RandomForestClassifier(max_depth=8, min_samples_split=20, n_estimators=80)</pre></div></div></div></div></div>"
            ]
          },
          "metadata": {},
          "execution_count": 179
        }
      ]
    },
    {
      "cell_type": "code",
      "source": [
        "mscore(rand_for)"
      ],
      "metadata": {
        "colab": {
          "base_uri": "https://localhost:8080/"
        },
        "id": "CVIbY8tpticp",
        "outputId": "d5cd05d6-1d5e-4b5d-cbce-c58be33d34f0"
      },
      "execution_count": null,
      "outputs": [
        {
          "output_type": "stream",
          "name": "stdout",
          "text": [
            "Training Score 0.966412213740458\n",
            "Testing Score 0.9645390070921985\n"
          ]
        }
      ]
    },
    {
      "cell_type": "code",
      "source": [
        "y_pred_rf=rand_for.predict(x_test)"
      ],
      "metadata": {
        "id": "4DxhP0e7twTH"
      },
      "execution_count": null,
      "outputs": []
    },
    {
      "cell_type": "code",
      "source": [
        "y_pred_rf"
      ],
      "metadata": {
        "colab": {
          "base_uri": "https://localhost:8080/"
        },
        "id": "CaThY5F6uHZP",
        "outputId": "2d2868db-fd24-41e9-b599-597fee298109"
      },
      "execution_count": null,
      "outputs": [
        {
          "output_type": "execute_result",
          "data": {
            "text/plain": [
              "array([0., 0., 0., 0., 0., 0., 0., 0., 0., 0., 0., 0., 0., 0., 0., 0., 0.,\n",
              "       0., 0., 0., 0., 0., 0., 0., 0., 0., 0., 0., 0., 0., 0., 0., 0., 0.,\n",
              "       0., 0., 0., 0., 0., 0., 0., 0., 0., 0., 0., 0., 0., 0., 0., 0., 0.,\n",
              "       0., 0., 0., 0., 0., 0., 0., 0., 0., 0., 0., 0., 0., 0., 0., 0., 0.,\n",
              "       0., 0., 0., 0., 0., 0., 0., 0., 0., 0., 0., 0., 0., 0., 0., 0., 0.,\n",
              "       0., 0., 0., 0., 0., 0., 1., 0., 0., 0., 0., 0., 0., 0., 0., 0., 0.,\n",
              "       0., 1., 0., 0., 0., 0., 0., 0., 0., 0., 0., 0., 0., 0., 0., 0., 0.,\n",
              "       0., 0., 0., 0., 0., 0., 0., 0., 0., 0., 0., 0., 0., 0., 0., 0., 0.,\n",
              "       0., 0., 0., 0., 0., 0., 0., 0., 0., 0., 0., 0., 0., 0., 0., 0., 0.,\n",
              "       0., 0., 0., 0., 0., 0., 0., 0., 0., 0., 0., 0., 0., 0., 0., 0., 0.,\n",
              "       0., 0., 0., 0., 0., 0., 0., 0., 0., 0., 0., 0., 0., 0., 0., 0., 0.,\n",
              "       0., 0., 0., 0., 0., 0., 0., 0., 0., 0., 0., 0., 0., 0., 0., 0., 0.,\n",
              "       0., 0., 0., 0., 0., 0., 0., 0., 0., 0., 0., 0., 0., 0., 0., 0., 0.,\n",
              "       0., 0., 0., 0., 0., 0., 0., 0., 0., 0., 0., 0., 0., 0., 0., 0., 0.,\n",
              "       0., 0., 0., 0., 0., 0., 0., 0., 0., 0., 0., 0., 0., 0., 0., 0., 0.,\n",
              "       0., 0., 0., 0., 0., 0., 0., 0., 0., 0., 0., 0., 0., 0., 0., 0., 0.,\n",
              "       0., 0., 0., 0., 0., 0., 0., 0., 0., 0.])"
            ]
          },
          "metadata": {},
          "execution_count": 182
        }
      ]
    },
    {
      "cell_type": "code",
      "source": [
        "eval_model(rand_for,y_test,y_pred_rf)"
      ],
      "metadata": {
        "colab": {
          "base_uri": "https://localhost:8080/"
        },
        "id": "gLsDRnUettZ3",
        "outputId": "ed1eb37b-7e1d-402d-caf8-e91941535a9c"
      },
      "execution_count": null,
      "outputs": [
        {
          "output_type": "stream",
          "name": "stdout",
          "text": [
            "[[271   1]\n",
            " [  9   1]]\n",
            "Accuracy Score 0.9645390070921985\n",
            "              precision    recall  f1-score   support\n",
            "\n",
            "         0.0       0.97      1.00      0.98       272\n",
            "         1.0       0.50      0.10      0.17        10\n",
            "\n",
            "    accuracy                           0.96       282\n",
            "   macro avg       0.73      0.55      0.57       282\n",
            "weighted avg       0.95      0.96      0.95       282\n",
            "\n"
          ]
        }
      ]
    },
    {
      "cell_type": "markdown",
      "source": [
        "###Save the best model and Load the model"
      ],
      "metadata": {
        "id": "R0_-AzV2Q6oc"
      }
    },
    {
      "cell_type": "code",
      "source": [
        "# Save the best model\n",
        "import pickle"
      ],
      "metadata": {
        "id": "imF20izJybG8"
      },
      "execution_count": null,
      "outputs": []
    },
    {
      "cell_type": "code",
      "source": [
        "pickle.dump(ada_boost,open('ada_boost.pkl','wb'))"
      ],
      "metadata": {
        "id": "a__C58yvyi8B"
      },
      "execution_count": null,
      "outputs": []
    },
    {
      "cell_type": "code",
      "source": [
        "#load the model\n",
        "loaded_model=pickle.load(open('ada_boost.pkl','rb'))\n",
        "result=loaded_model.score(x_test,y_test)\n",
        "result"
      ],
      "metadata": {
        "colab": {
          "base_uri": "https://localhost:8080/"
        },
        "id": "UKwiKk2FJITB",
        "outputId": "d862e69d-9a27-4a54-b79e-4dcf2af078ac"
      },
      "execution_count": null,
      "outputs": [
        {
          "output_type": "execute_result",
          "data": {
            "text/plain": [
              "0.9716312056737588"
            ]
          },
          "metadata": {},
          "execution_count": 186
        }
      ]
    },
    {
      "cell_type": "markdown",
      "source": [
        "###Take the original dataset and make another dataset by randomly picking 20 datapoints from the oilspill dataset and apply the saved model on the same"
      ],
      "metadata": {
        "id": "8FTMBF37J-kf"
      }
    },
    {
      "cell_type": "code",
      "source": [
        "new_data=df_new[df_new['target']==0]\n",
        "new_data=new_data.sample(n=20)"
      ],
      "metadata": {
        "id": "ep9dWbRNKJe2"
      },
      "execution_count": null,
      "outputs": []
    },
    {
      "cell_type": "code",
      "source": [
        "new_data.shape"
      ],
      "metadata": {
        "colab": {
          "base_uri": "https://localhost:8080/"
        },
        "id": "swdrguZOLRX8",
        "outputId": "8e78738d-0d65-413f-9b79-6b364b1e150f"
      },
      "execution_count": null,
      "outputs": [
        {
          "output_type": "execute_result",
          "data": {
            "text/plain": [
              "(20, 50)"
            ]
          },
          "metadata": {},
          "execution_count": 200
        }
      ]
    },
    {
      "cell_type": "code",
      "source": [
        "new_data.head()"
      ],
      "metadata": {
        "colab": {
          "base_uri": "https://localhost:8080/",
          "height": 299
        },
        "id": "wXpLI73LPvII",
        "outputId": "7fa38f18-fafc-4a4b-acd4-8ad1cd79ac50"
      },
      "execution_count": null,
      "outputs": [
        {
          "output_type": "execute_result",
          "data": {
            "text/plain": [
              "          f_1       f_2       f_3       f_4       f_5       f_6       f_7  \\\n",
              "574  0.014245  0.003552  0.009407  0.095566  0.500000  0.013225  0.419055   \n",
              "802  0.196581  0.000618  0.013420  0.159618  0.011111  0.002424  0.600814   \n",
              "748  0.042735  0.000371  0.015498  0.151188  0.344444  0.001514  0.464658   \n",
              "733  0.000000  0.048303  0.005875  0.105472  0.472222  0.177965  0.664821   \n",
              "1    0.002849  0.689181  0.040816  0.308430  1.000000  0.782405  0.486482   \n",
              "\n",
              "          f_8       f_9      f_10  ...      f_41      f_42      f_43  \\\n",
              "574  0.520956  0.026319  0.361111  ...  0.112977  0.062609  0.059415   \n",
              "802  0.474853  0.007903  0.263889  ...  0.067786  0.031304  0.018763   \n",
              "748  0.321039  0.008234  0.208333  ...  0.087835  0.011068  0.002654   \n",
              "733  0.698659  0.205369  0.361111  ...  0.673033  0.251533  0.179235   \n",
              "1    0.015926  0.382532  0.000000  ...  0.481199  1.000000  1.000000   \n",
              "\n",
              "         f_44      f_45  f_46      f_47      f_48      f_49  target  \n",
              "574  0.069257  0.030928   0.0  0.184774  0.974754  0.047767     0.0  \n",
              "802  0.051484  0.058724   0.0  0.000675  0.982623  0.032191     0.0  \n",
              "748  0.030701  0.538040   1.0  0.004918  0.981639  0.035306     0.0  \n",
              "733  0.430786  0.061073   0.0  0.035233  0.976066  0.042575     0.0  \n",
              "1    0.943179  0.007830   0.0  0.932995  0.976393  0.046729     0.0  \n",
              "\n",
              "[5 rows x 50 columns]"
            ],
            "text/html": [
              "\n",
              "  <div id=\"df-d4274bb1-76b3-4677-a9de-8f8b1f49a06c\">\n",
              "    <div class=\"colab-df-container\">\n",
              "      <div>\n",
              "<style scoped>\n",
              "    .dataframe tbody tr th:only-of-type {\n",
              "        vertical-align: middle;\n",
              "    }\n",
              "\n",
              "    .dataframe tbody tr th {\n",
              "        vertical-align: top;\n",
              "    }\n",
              "\n",
              "    .dataframe thead th {\n",
              "        text-align: right;\n",
              "    }\n",
              "</style>\n",
              "<table border=\"1\" class=\"dataframe\">\n",
              "  <thead>\n",
              "    <tr style=\"text-align: right;\">\n",
              "      <th></th>\n",
              "      <th>f_1</th>\n",
              "      <th>f_2</th>\n",
              "      <th>f_3</th>\n",
              "      <th>f_4</th>\n",
              "      <th>f_5</th>\n",
              "      <th>f_6</th>\n",
              "      <th>f_7</th>\n",
              "      <th>f_8</th>\n",
              "      <th>f_9</th>\n",
              "      <th>f_10</th>\n",
              "      <th>...</th>\n",
              "      <th>f_41</th>\n",
              "      <th>f_42</th>\n",
              "      <th>f_43</th>\n",
              "      <th>f_44</th>\n",
              "      <th>f_45</th>\n",
              "      <th>f_46</th>\n",
              "      <th>f_47</th>\n",
              "      <th>f_48</th>\n",
              "      <th>f_49</th>\n",
              "      <th>target</th>\n",
              "    </tr>\n",
              "  </thead>\n",
              "  <tbody>\n",
              "    <tr>\n",
              "      <th>574</th>\n",
              "      <td>0.014245</td>\n",
              "      <td>0.003552</td>\n",
              "      <td>0.009407</td>\n",
              "      <td>0.095566</td>\n",
              "      <td>0.500000</td>\n",
              "      <td>0.013225</td>\n",
              "      <td>0.419055</td>\n",
              "      <td>0.520956</td>\n",
              "      <td>0.026319</td>\n",
              "      <td>0.361111</td>\n",
              "      <td>...</td>\n",
              "      <td>0.112977</td>\n",
              "      <td>0.062609</td>\n",
              "      <td>0.059415</td>\n",
              "      <td>0.069257</td>\n",
              "      <td>0.030928</td>\n",
              "      <td>0.0</td>\n",
              "      <td>0.184774</td>\n",
              "      <td>0.974754</td>\n",
              "      <td>0.047767</td>\n",
              "      <td>0.0</td>\n",
              "    </tr>\n",
              "    <tr>\n",
              "      <th>802</th>\n",
              "      <td>0.196581</td>\n",
              "      <td>0.000618</td>\n",
              "      <td>0.013420</td>\n",
              "      <td>0.159618</td>\n",
              "      <td>0.011111</td>\n",
              "      <td>0.002424</td>\n",
              "      <td>0.600814</td>\n",
              "      <td>0.474853</td>\n",
              "      <td>0.007903</td>\n",
              "      <td>0.263889</td>\n",
              "      <td>...</td>\n",
              "      <td>0.067786</td>\n",
              "      <td>0.031304</td>\n",
              "      <td>0.018763</td>\n",
              "      <td>0.051484</td>\n",
              "      <td>0.058724</td>\n",
              "      <td>0.0</td>\n",
              "      <td>0.000675</td>\n",
              "      <td>0.982623</td>\n",
              "      <td>0.032191</td>\n",
              "      <td>0.0</td>\n",
              "    </tr>\n",
              "    <tr>\n",
              "      <th>748</th>\n",
              "      <td>0.042735</td>\n",
              "      <td>0.000371</td>\n",
              "      <td>0.015498</td>\n",
              "      <td>0.151188</td>\n",
              "      <td>0.344444</td>\n",
              "      <td>0.001514</td>\n",
              "      <td>0.464658</td>\n",
              "      <td>0.321039</td>\n",
              "      <td>0.008234</td>\n",
              "      <td>0.208333</td>\n",
              "      <td>...</td>\n",
              "      <td>0.087835</td>\n",
              "      <td>0.011068</td>\n",
              "      <td>0.002654</td>\n",
              "      <td>0.030701</td>\n",
              "      <td>0.538040</td>\n",
              "      <td>1.0</td>\n",
              "      <td>0.004918</td>\n",
              "      <td>0.981639</td>\n",
              "      <td>0.035306</td>\n",
              "      <td>0.0</td>\n",
              "    </tr>\n",
              "    <tr>\n",
              "      <th>733</th>\n",
              "      <td>0.000000</td>\n",
              "      <td>0.048303</td>\n",
              "      <td>0.005875</td>\n",
              "      <td>0.105472</td>\n",
              "      <td>0.472222</td>\n",
              "      <td>0.177965</td>\n",
              "      <td>0.664821</td>\n",
              "      <td>0.698659</td>\n",
              "      <td>0.205369</td>\n",
              "      <td>0.361111</td>\n",
              "      <td>...</td>\n",
              "      <td>0.673033</td>\n",
              "      <td>0.251533</td>\n",
              "      <td>0.179235</td>\n",
              "      <td>0.430786</td>\n",
              "      <td>0.061073</td>\n",
              "      <td>0.0</td>\n",
              "      <td>0.035233</td>\n",
              "      <td>0.976066</td>\n",
              "      <td>0.042575</td>\n",
              "      <td>0.0</td>\n",
              "    </tr>\n",
              "    <tr>\n",
              "      <th>1</th>\n",
              "      <td>0.002849</td>\n",
              "      <td>0.689181</td>\n",
              "      <td>0.040816</td>\n",
              "      <td>0.308430</td>\n",
              "      <td>1.000000</td>\n",
              "      <td>0.782405</td>\n",
              "      <td>0.486482</td>\n",
              "      <td>0.015926</td>\n",
              "      <td>0.382532</td>\n",
              "      <td>0.000000</td>\n",
              "      <td>...</td>\n",
              "      <td>0.481199</td>\n",
              "      <td>1.000000</td>\n",
              "      <td>1.000000</td>\n",
              "      <td>0.943179</td>\n",
              "      <td>0.007830</td>\n",
              "      <td>0.0</td>\n",
              "      <td>0.932995</td>\n",
              "      <td>0.976393</td>\n",
              "      <td>0.046729</td>\n",
              "      <td>0.0</td>\n",
              "    </tr>\n",
              "  </tbody>\n",
              "</table>\n",
              "<p>5 rows × 50 columns</p>\n",
              "</div>\n",
              "      <button class=\"colab-df-convert\" onclick=\"convertToInteractive('df-d4274bb1-76b3-4677-a9de-8f8b1f49a06c')\"\n",
              "              title=\"Convert this dataframe to an interactive table.\"\n",
              "              style=\"display:none;\">\n",
              "        \n",
              "  <svg xmlns=\"http://www.w3.org/2000/svg\" height=\"24px\"viewBox=\"0 0 24 24\"\n",
              "       width=\"24px\">\n",
              "    <path d=\"M0 0h24v24H0V0z\" fill=\"none\"/>\n",
              "    <path d=\"M18.56 5.44l.94 2.06.94-2.06 2.06-.94-2.06-.94-.94-2.06-.94 2.06-2.06.94zm-11 1L8.5 8.5l.94-2.06 2.06-.94-2.06-.94L8.5 2.5l-.94 2.06-2.06.94zm10 10l.94 2.06.94-2.06 2.06-.94-2.06-.94-.94-2.06-.94 2.06-2.06.94z\"/><path d=\"M17.41 7.96l-1.37-1.37c-.4-.4-.92-.59-1.43-.59-.52 0-1.04.2-1.43.59L10.3 9.45l-7.72 7.72c-.78.78-.78 2.05 0 2.83L4 21.41c.39.39.9.59 1.41.59.51 0 1.02-.2 1.41-.59l7.78-7.78 2.81-2.81c.8-.78.8-2.07 0-2.86zM5.41 20L4 18.59l7.72-7.72 1.47 1.35L5.41 20z\"/>\n",
              "  </svg>\n",
              "      </button>\n",
              "      \n",
              "  <style>\n",
              "    .colab-df-container {\n",
              "      display:flex;\n",
              "      flex-wrap:wrap;\n",
              "      gap: 12px;\n",
              "    }\n",
              "\n",
              "    .colab-df-convert {\n",
              "      background-color: #E8F0FE;\n",
              "      border: none;\n",
              "      border-radius: 50%;\n",
              "      cursor: pointer;\n",
              "      display: none;\n",
              "      fill: #1967D2;\n",
              "      height: 32px;\n",
              "      padding: 0 0 0 0;\n",
              "      width: 32px;\n",
              "    }\n",
              "\n",
              "    .colab-df-convert:hover {\n",
              "      background-color: #E2EBFA;\n",
              "      box-shadow: 0px 1px 2px rgba(60, 64, 67, 0.3), 0px 1px 3px 1px rgba(60, 64, 67, 0.15);\n",
              "      fill: #174EA6;\n",
              "    }\n",
              "\n",
              "    [theme=dark] .colab-df-convert {\n",
              "      background-color: #3B4455;\n",
              "      fill: #D2E3FC;\n",
              "    }\n",
              "\n",
              "    [theme=dark] .colab-df-convert:hover {\n",
              "      background-color: #434B5C;\n",
              "      box-shadow: 0px 1px 3px 1px rgba(0, 0, 0, 0.15);\n",
              "      filter: drop-shadow(0px 1px 2px rgba(0, 0, 0, 0.3));\n",
              "      fill: #FFFFFF;\n",
              "    }\n",
              "  </style>\n",
              "\n",
              "      <script>\n",
              "        const buttonEl =\n",
              "          document.querySelector('#df-d4274bb1-76b3-4677-a9de-8f8b1f49a06c button.colab-df-convert');\n",
              "        buttonEl.style.display =\n",
              "          google.colab.kernel.accessAllowed ? 'block' : 'none';\n",
              "\n",
              "        async function convertToInteractive(key) {\n",
              "          const element = document.querySelector('#df-d4274bb1-76b3-4677-a9de-8f8b1f49a06c');\n",
              "          const dataTable =\n",
              "            await google.colab.kernel.invokeFunction('convertToInteractive',\n",
              "                                                     [key], {});\n",
              "          if (!dataTable) return;\n",
              "\n",
              "          const docLinkHtml = 'Like what you see? Visit the ' +\n",
              "            '<a target=\"_blank\" href=https://colab.research.google.com/notebooks/data_table.ipynb>data table notebook</a>'\n",
              "            + ' to learn more about interactive tables.';\n",
              "          element.innerHTML = '';\n",
              "          dataTable['output_type'] = 'display_data';\n",
              "          await google.colab.output.renderOutput(dataTable, element);\n",
              "          const docLink = document.createElement('div');\n",
              "          docLink.innerHTML = docLinkHtml;\n",
              "          element.appendChild(docLink);\n",
              "        }\n",
              "      </script>\n",
              "    </div>\n",
              "  </div>\n",
              "  "
            ]
          },
          "metadata": {},
          "execution_count": 201
        }
      ]
    },
    {
      "cell_type": "code",
      "source": [
        "random_data=new_data.drop('target',axis=1)"
      ],
      "metadata": {
        "id": "L9a9sP8iMBGL"
      },
      "execution_count": null,
      "outputs": []
    },
    {
      "cell_type": "code",
      "source": [
        "random_data.head()"
      ],
      "metadata": {
        "colab": {
          "base_uri": "https://localhost:8080/",
          "height": 299
        },
        "id": "T7De4HPqLU7T",
        "outputId": "9b455090-45e4-422c-cb61-0232a62009a2"
      },
      "execution_count": null,
      "outputs": [
        {
          "output_type": "execute_result",
          "data": {
            "text/plain": [
              "          f_1       f_2       f_3       f_4       f_5       f_6       f_7  \\\n",
              "392  0.353276  0.001760  0.601197  0.367988  0.238889  0.001364  0.305049   \n",
              "28   0.048433  0.001699  0.833970  0.365234  0.238889  0.001294  0.278502   \n",
              "758  0.071225  0.000278  0.052946  0.137995  0.383333  0.001173  0.506189   \n",
              "167  0.447293  0.001915  0.901166  0.482249  0.561111  0.001540  0.207980   \n",
              "713  0.185185  0.000000  0.001364  0.103394  0.188889  0.000150  0.844625   \n",
              "\n",
              "          f_8       f_9      f_10  ...      f_40      f_41      f_42  \\\n",
              "392  0.255239  0.004642  0.208333  ...  0.510638  0.041422  0.024595   \n",
              "28   0.212070  0.010514  0.180556  ...  0.340426  0.097684  0.012297   \n",
              "758  0.246857  0.006085  0.152778  ...  0.234043  0.067366  0.015652   \n",
              "167  0.348701  0.011513  0.347222  ...  0.340426  0.073076  0.017927   \n",
              "713  0.622800  0.000562  0.263889  ...  0.723404  0.027156  0.011068   \n",
              "\n",
              "         f_43      f_44      f_45  f_46      f_47      f_48      f_49  \n",
              "392  0.024219  0.038475  0.027796   0.0  0.048180  0.983607  0.161994  \n",
              "28   0.006503  0.031599  0.244160   1.0  0.080018  0.986557  0.221184  \n",
              "758  0.010554  0.018202  0.103745   0.0  0.008687  0.980984  0.062305  \n",
              "167  0.014572  0.030421  0.081561   0.0  0.040139  0.992131  0.225337  \n",
              "713  0.008845  0.042033  0.049850   0.0  0.255967  0.975738  0.040498  \n",
              "\n",
              "[5 rows x 49 columns]"
            ],
            "text/html": [
              "\n",
              "  <div id=\"df-a25b12e9-78c5-4da9-81af-f1bad22cac90\">\n",
              "    <div class=\"colab-df-container\">\n",
              "      <div>\n",
              "<style scoped>\n",
              "    .dataframe tbody tr th:only-of-type {\n",
              "        vertical-align: middle;\n",
              "    }\n",
              "\n",
              "    .dataframe tbody tr th {\n",
              "        vertical-align: top;\n",
              "    }\n",
              "\n",
              "    .dataframe thead th {\n",
              "        text-align: right;\n",
              "    }\n",
              "</style>\n",
              "<table border=\"1\" class=\"dataframe\">\n",
              "  <thead>\n",
              "    <tr style=\"text-align: right;\">\n",
              "      <th></th>\n",
              "      <th>f_1</th>\n",
              "      <th>f_2</th>\n",
              "      <th>f_3</th>\n",
              "      <th>f_4</th>\n",
              "      <th>f_5</th>\n",
              "      <th>f_6</th>\n",
              "      <th>f_7</th>\n",
              "      <th>f_8</th>\n",
              "      <th>f_9</th>\n",
              "      <th>f_10</th>\n",
              "      <th>...</th>\n",
              "      <th>f_40</th>\n",
              "      <th>f_41</th>\n",
              "      <th>f_42</th>\n",
              "      <th>f_43</th>\n",
              "      <th>f_44</th>\n",
              "      <th>f_45</th>\n",
              "      <th>f_46</th>\n",
              "      <th>f_47</th>\n",
              "      <th>f_48</th>\n",
              "      <th>f_49</th>\n",
              "    </tr>\n",
              "  </thead>\n",
              "  <tbody>\n",
              "    <tr>\n",
              "      <th>392</th>\n",
              "      <td>0.353276</td>\n",
              "      <td>0.001760</td>\n",
              "      <td>0.601197</td>\n",
              "      <td>0.367988</td>\n",
              "      <td>0.238889</td>\n",
              "      <td>0.001364</td>\n",
              "      <td>0.305049</td>\n",
              "      <td>0.255239</td>\n",
              "      <td>0.004642</td>\n",
              "      <td>0.208333</td>\n",
              "      <td>...</td>\n",
              "      <td>0.510638</td>\n",
              "      <td>0.041422</td>\n",
              "      <td>0.024595</td>\n",
              "      <td>0.024219</td>\n",
              "      <td>0.038475</td>\n",
              "      <td>0.027796</td>\n",
              "      <td>0.0</td>\n",
              "      <td>0.048180</td>\n",
              "      <td>0.983607</td>\n",
              "      <td>0.161994</td>\n",
              "    </tr>\n",
              "    <tr>\n",
              "      <th>28</th>\n",
              "      <td>0.048433</td>\n",
              "      <td>0.001699</td>\n",
              "      <td>0.833970</td>\n",
              "      <td>0.365234</td>\n",
              "      <td>0.238889</td>\n",
              "      <td>0.001294</td>\n",
              "      <td>0.278502</td>\n",
              "      <td>0.212070</td>\n",
              "      <td>0.010514</td>\n",
              "      <td>0.180556</td>\n",
              "      <td>...</td>\n",
              "      <td>0.340426</td>\n",
              "      <td>0.097684</td>\n",
              "      <td>0.012297</td>\n",
              "      <td>0.006503</td>\n",
              "      <td>0.031599</td>\n",
              "      <td>0.244160</td>\n",
              "      <td>1.0</td>\n",
              "      <td>0.080018</td>\n",
              "      <td>0.986557</td>\n",
              "      <td>0.221184</td>\n",
              "    </tr>\n",
              "    <tr>\n",
              "      <th>758</th>\n",
              "      <td>0.071225</td>\n",
              "      <td>0.000278</td>\n",
              "      <td>0.052946</td>\n",
              "      <td>0.137995</td>\n",
              "      <td>0.383333</td>\n",
              "      <td>0.001173</td>\n",
              "      <td>0.506189</td>\n",
              "      <td>0.246857</td>\n",
              "      <td>0.006085</td>\n",
              "      <td>0.152778</td>\n",
              "      <td>...</td>\n",
              "      <td>0.234043</td>\n",
              "      <td>0.067366</td>\n",
              "      <td>0.015652</td>\n",
              "      <td>0.010554</td>\n",
              "      <td>0.018202</td>\n",
              "      <td>0.103745</td>\n",
              "      <td>0.0</td>\n",
              "      <td>0.008687</td>\n",
              "      <td>0.980984</td>\n",
              "      <td>0.062305</td>\n",
              "    </tr>\n",
              "    <tr>\n",
              "      <th>167</th>\n",
              "      <td>0.447293</td>\n",
              "      <td>0.001915</td>\n",
              "      <td>0.901166</td>\n",
              "      <td>0.482249</td>\n",
              "      <td>0.561111</td>\n",
              "      <td>0.001540</td>\n",
              "      <td>0.207980</td>\n",
              "      <td>0.348701</td>\n",
              "      <td>0.011513</td>\n",
              "      <td>0.347222</td>\n",
              "      <td>...</td>\n",
              "      <td>0.340426</td>\n",
              "      <td>0.073076</td>\n",
              "      <td>0.017927</td>\n",
              "      <td>0.014572</td>\n",
              "      <td>0.030421</td>\n",
              "      <td>0.081561</td>\n",
              "      <td>0.0</td>\n",
              "      <td>0.040139</td>\n",
              "      <td>0.992131</td>\n",
              "      <td>0.225337</td>\n",
              "    </tr>\n",
              "    <tr>\n",
              "      <th>713</th>\n",
              "      <td>0.185185</td>\n",
              "      <td>0.000000</td>\n",
              "      <td>0.001364</td>\n",
              "      <td>0.103394</td>\n",
              "      <td>0.188889</td>\n",
              "      <td>0.000150</td>\n",
              "      <td>0.844625</td>\n",
              "      <td>0.622800</td>\n",
              "      <td>0.000562</td>\n",
              "      <td>0.263889</td>\n",
              "      <td>...</td>\n",
              "      <td>0.723404</td>\n",
              "      <td>0.027156</td>\n",
              "      <td>0.011068</td>\n",
              "      <td>0.008845</td>\n",
              "      <td>0.042033</td>\n",
              "      <td>0.049850</td>\n",
              "      <td>0.0</td>\n",
              "      <td>0.255967</td>\n",
              "      <td>0.975738</td>\n",
              "      <td>0.040498</td>\n",
              "    </tr>\n",
              "  </tbody>\n",
              "</table>\n",
              "<p>5 rows × 49 columns</p>\n",
              "</div>\n",
              "      <button class=\"colab-df-convert\" onclick=\"convertToInteractive('df-a25b12e9-78c5-4da9-81af-f1bad22cac90')\"\n",
              "              title=\"Convert this dataframe to an interactive table.\"\n",
              "              style=\"display:none;\">\n",
              "        \n",
              "  <svg xmlns=\"http://www.w3.org/2000/svg\" height=\"24px\"viewBox=\"0 0 24 24\"\n",
              "       width=\"24px\">\n",
              "    <path d=\"M0 0h24v24H0V0z\" fill=\"none\"/>\n",
              "    <path d=\"M18.56 5.44l.94 2.06.94-2.06 2.06-.94-2.06-.94-.94-2.06-.94 2.06-2.06.94zm-11 1L8.5 8.5l.94-2.06 2.06-.94-2.06-.94L8.5 2.5l-.94 2.06-2.06.94zm10 10l.94 2.06.94-2.06 2.06-.94-2.06-.94-.94-2.06-.94 2.06-2.06.94z\"/><path d=\"M17.41 7.96l-1.37-1.37c-.4-.4-.92-.59-1.43-.59-.52 0-1.04.2-1.43.59L10.3 9.45l-7.72 7.72c-.78.78-.78 2.05 0 2.83L4 21.41c.39.39.9.59 1.41.59.51 0 1.02-.2 1.41-.59l7.78-7.78 2.81-2.81c.8-.78.8-2.07 0-2.86zM5.41 20L4 18.59l7.72-7.72 1.47 1.35L5.41 20z\"/>\n",
              "  </svg>\n",
              "      </button>\n",
              "      \n",
              "  <style>\n",
              "    .colab-df-container {\n",
              "      display:flex;\n",
              "      flex-wrap:wrap;\n",
              "      gap: 12px;\n",
              "    }\n",
              "\n",
              "    .colab-df-convert {\n",
              "      background-color: #E8F0FE;\n",
              "      border: none;\n",
              "      border-radius: 50%;\n",
              "      cursor: pointer;\n",
              "      display: none;\n",
              "      fill: #1967D2;\n",
              "      height: 32px;\n",
              "      padding: 0 0 0 0;\n",
              "      width: 32px;\n",
              "    }\n",
              "\n",
              "    .colab-df-convert:hover {\n",
              "      background-color: #E2EBFA;\n",
              "      box-shadow: 0px 1px 2px rgba(60, 64, 67, 0.3), 0px 1px 3px 1px rgba(60, 64, 67, 0.15);\n",
              "      fill: #174EA6;\n",
              "    }\n",
              "\n",
              "    [theme=dark] .colab-df-convert {\n",
              "      background-color: #3B4455;\n",
              "      fill: #D2E3FC;\n",
              "    }\n",
              "\n",
              "    [theme=dark] .colab-df-convert:hover {\n",
              "      background-color: #434B5C;\n",
              "      box-shadow: 0px 1px 3px 1px rgba(0, 0, 0, 0.15);\n",
              "      filter: drop-shadow(0px 1px 2px rgba(0, 0, 0, 0.3));\n",
              "      fill: #FFFFFF;\n",
              "    }\n",
              "  </style>\n",
              "\n",
              "      <script>\n",
              "        const buttonEl =\n",
              "          document.querySelector('#df-a25b12e9-78c5-4da9-81af-f1bad22cac90 button.colab-df-convert');\n",
              "        buttonEl.style.display =\n",
              "          google.colab.kernel.accessAllowed ? 'block' : 'none';\n",
              "\n",
              "        async function convertToInteractive(key) {\n",
              "          const element = document.querySelector('#df-a25b12e9-78c5-4da9-81af-f1bad22cac90');\n",
              "          const dataTable =\n",
              "            await google.colab.kernel.invokeFunction('convertToInteractive',\n",
              "                                                     [key], {});\n",
              "          if (!dataTable) return;\n",
              "\n",
              "          const docLinkHtml = 'Like what you see? Visit the ' +\n",
              "            '<a target=\"_blank\" href=https://colab.research.google.com/notebooks/data_table.ipynb>data table notebook</a>'\n",
              "            + ' to learn more about interactive tables.';\n",
              "          element.innerHTML = '';\n",
              "          dataTable['output_type'] = 'display_data';\n",
              "          await google.colab.output.renderOutput(dataTable, element);\n",
              "          const docLink = document.createElement('div');\n",
              "          docLink.innerHTML = docLinkHtml;\n",
              "          element.appendChild(docLink);\n",
              "        }\n",
              "      </script>\n",
              "    </div>\n",
              "  </div>\n",
              "  "
            ]
          },
          "metadata": {},
          "execution_count": 191
        }
      ]
    },
    {
      "cell_type": "code",
      "source": [
        "random_data.to_csv('sample_submission_major_project.csv')"
      ],
      "metadata": {
        "id": "Qxtd2LGRMYuC"
      },
      "execution_count": null,
      "outputs": []
    },
    {
      "cell_type": "code",
      "source": [
        "sample=pd.read_csv('/content/sample_submission_major_project.csv')\n",
        "sample.shape"
      ],
      "metadata": {
        "colab": {
          "base_uri": "https://localhost:8080/"
        },
        "id": "qqvkg9USMqO_",
        "outputId": "920a2c7c-9c4a-4697-8d60-fc6b50041736"
      },
      "execution_count": null,
      "outputs": [
        {
          "output_type": "execute_result",
          "data": {
            "text/plain": [
              "(20, 50)"
            ]
          },
          "metadata": {},
          "execution_count": 193
        }
      ]
    },
    {
      "cell_type": "code",
      "source": [
        "sample.head()"
      ],
      "metadata": {
        "colab": {
          "base_uri": "https://localhost:8080/",
          "height": 317
        },
        "id": "nHZdY3bkNJaA",
        "outputId": "ed320c40-624b-4942-bdcc-0a8a61ce37bd"
      },
      "execution_count": null,
      "outputs": [
        {
          "output_type": "execute_result",
          "data": {
            "text/plain": [
              "   Unnamed: 0       f_1       f_2       f_3       f_4       f_5       f_6  \\\n",
              "0         392  0.353276  0.001760  0.601197  0.367988  0.238889  0.001364   \n",
              "1          28  0.048433  0.001699  0.833970  0.365234  0.238889  0.001294   \n",
              "2         758  0.071225  0.000278  0.052946  0.137995  0.383333  0.001173   \n",
              "3         167  0.447293  0.001915  0.901166  0.482249  0.561111  0.001540   \n",
              "4         713  0.185185  0.000000  0.001364  0.103394  0.188889  0.000150   \n",
              "\n",
              "        f_7       f_8       f_9  ...      f_40      f_41      f_42      f_43  \\\n",
              "0  0.305049  0.255239  0.004642  ...  0.510638  0.041422  0.024595  0.024219   \n",
              "1  0.278502  0.212070  0.010514  ...  0.340426  0.097684  0.012297  0.006503   \n",
              "2  0.506189  0.246857  0.006085  ...  0.234043  0.067366  0.015652  0.010554   \n",
              "3  0.207980  0.348701  0.011513  ...  0.340426  0.073076  0.017927  0.014572   \n",
              "4  0.844625  0.622800  0.000562  ...  0.723404  0.027156  0.011068  0.008845   \n",
              "\n",
              "       f_44      f_45  f_46      f_47      f_48      f_49  \n",
              "0  0.038475  0.027796   0.0  0.048180  0.983607  0.161994  \n",
              "1  0.031599  0.244160   1.0  0.080018  0.986557  0.221184  \n",
              "2  0.018202  0.103745   0.0  0.008687  0.980984  0.062305  \n",
              "3  0.030421  0.081561   0.0  0.040139  0.992131  0.225337  \n",
              "4  0.042033  0.049850   0.0  0.255967  0.975738  0.040498  \n",
              "\n",
              "[5 rows x 50 columns]"
            ],
            "text/html": [
              "\n",
              "  <div id=\"df-e0a314fd-90e9-42df-bbec-0d827bfe706b\">\n",
              "    <div class=\"colab-df-container\">\n",
              "      <div>\n",
              "<style scoped>\n",
              "    .dataframe tbody tr th:only-of-type {\n",
              "        vertical-align: middle;\n",
              "    }\n",
              "\n",
              "    .dataframe tbody tr th {\n",
              "        vertical-align: top;\n",
              "    }\n",
              "\n",
              "    .dataframe thead th {\n",
              "        text-align: right;\n",
              "    }\n",
              "</style>\n",
              "<table border=\"1\" class=\"dataframe\">\n",
              "  <thead>\n",
              "    <tr style=\"text-align: right;\">\n",
              "      <th></th>\n",
              "      <th>Unnamed: 0</th>\n",
              "      <th>f_1</th>\n",
              "      <th>f_2</th>\n",
              "      <th>f_3</th>\n",
              "      <th>f_4</th>\n",
              "      <th>f_5</th>\n",
              "      <th>f_6</th>\n",
              "      <th>f_7</th>\n",
              "      <th>f_8</th>\n",
              "      <th>f_9</th>\n",
              "      <th>...</th>\n",
              "      <th>f_40</th>\n",
              "      <th>f_41</th>\n",
              "      <th>f_42</th>\n",
              "      <th>f_43</th>\n",
              "      <th>f_44</th>\n",
              "      <th>f_45</th>\n",
              "      <th>f_46</th>\n",
              "      <th>f_47</th>\n",
              "      <th>f_48</th>\n",
              "      <th>f_49</th>\n",
              "    </tr>\n",
              "  </thead>\n",
              "  <tbody>\n",
              "    <tr>\n",
              "      <th>0</th>\n",
              "      <td>392</td>\n",
              "      <td>0.353276</td>\n",
              "      <td>0.001760</td>\n",
              "      <td>0.601197</td>\n",
              "      <td>0.367988</td>\n",
              "      <td>0.238889</td>\n",
              "      <td>0.001364</td>\n",
              "      <td>0.305049</td>\n",
              "      <td>0.255239</td>\n",
              "      <td>0.004642</td>\n",
              "      <td>...</td>\n",
              "      <td>0.510638</td>\n",
              "      <td>0.041422</td>\n",
              "      <td>0.024595</td>\n",
              "      <td>0.024219</td>\n",
              "      <td>0.038475</td>\n",
              "      <td>0.027796</td>\n",
              "      <td>0.0</td>\n",
              "      <td>0.048180</td>\n",
              "      <td>0.983607</td>\n",
              "      <td>0.161994</td>\n",
              "    </tr>\n",
              "    <tr>\n",
              "      <th>1</th>\n",
              "      <td>28</td>\n",
              "      <td>0.048433</td>\n",
              "      <td>0.001699</td>\n",
              "      <td>0.833970</td>\n",
              "      <td>0.365234</td>\n",
              "      <td>0.238889</td>\n",
              "      <td>0.001294</td>\n",
              "      <td>0.278502</td>\n",
              "      <td>0.212070</td>\n",
              "      <td>0.010514</td>\n",
              "      <td>...</td>\n",
              "      <td>0.340426</td>\n",
              "      <td>0.097684</td>\n",
              "      <td>0.012297</td>\n",
              "      <td>0.006503</td>\n",
              "      <td>0.031599</td>\n",
              "      <td>0.244160</td>\n",
              "      <td>1.0</td>\n",
              "      <td>0.080018</td>\n",
              "      <td>0.986557</td>\n",
              "      <td>0.221184</td>\n",
              "    </tr>\n",
              "    <tr>\n",
              "      <th>2</th>\n",
              "      <td>758</td>\n",
              "      <td>0.071225</td>\n",
              "      <td>0.000278</td>\n",
              "      <td>0.052946</td>\n",
              "      <td>0.137995</td>\n",
              "      <td>0.383333</td>\n",
              "      <td>0.001173</td>\n",
              "      <td>0.506189</td>\n",
              "      <td>0.246857</td>\n",
              "      <td>0.006085</td>\n",
              "      <td>...</td>\n",
              "      <td>0.234043</td>\n",
              "      <td>0.067366</td>\n",
              "      <td>0.015652</td>\n",
              "      <td>0.010554</td>\n",
              "      <td>0.018202</td>\n",
              "      <td>0.103745</td>\n",
              "      <td>0.0</td>\n",
              "      <td>0.008687</td>\n",
              "      <td>0.980984</td>\n",
              "      <td>0.062305</td>\n",
              "    </tr>\n",
              "    <tr>\n",
              "      <th>3</th>\n",
              "      <td>167</td>\n",
              "      <td>0.447293</td>\n",
              "      <td>0.001915</td>\n",
              "      <td>0.901166</td>\n",
              "      <td>0.482249</td>\n",
              "      <td>0.561111</td>\n",
              "      <td>0.001540</td>\n",
              "      <td>0.207980</td>\n",
              "      <td>0.348701</td>\n",
              "      <td>0.011513</td>\n",
              "      <td>...</td>\n",
              "      <td>0.340426</td>\n",
              "      <td>0.073076</td>\n",
              "      <td>0.017927</td>\n",
              "      <td>0.014572</td>\n",
              "      <td>0.030421</td>\n",
              "      <td>0.081561</td>\n",
              "      <td>0.0</td>\n",
              "      <td>0.040139</td>\n",
              "      <td>0.992131</td>\n",
              "      <td>0.225337</td>\n",
              "    </tr>\n",
              "    <tr>\n",
              "      <th>4</th>\n",
              "      <td>713</td>\n",
              "      <td>0.185185</td>\n",
              "      <td>0.000000</td>\n",
              "      <td>0.001364</td>\n",
              "      <td>0.103394</td>\n",
              "      <td>0.188889</td>\n",
              "      <td>0.000150</td>\n",
              "      <td>0.844625</td>\n",
              "      <td>0.622800</td>\n",
              "      <td>0.000562</td>\n",
              "      <td>...</td>\n",
              "      <td>0.723404</td>\n",
              "      <td>0.027156</td>\n",
              "      <td>0.011068</td>\n",
              "      <td>0.008845</td>\n",
              "      <td>0.042033</td>\n",
              "      <td>0.049850</td>\n",
              "      <td>0.0</td>\n",
              "      <td>0.255967</td>\n",
              "      <td>0.975738</td>\n",
              "      <td>0.040498</td>\n",
              "    </tr>\n",
              "  </tbody>\n",
              "</table>\n",
              "<p>5 rows × 50 columns</p>\n",
              "</div>\n",
              "      <button class=\"colab-df-convert\" onclick=\"convertToInteractive('df-e0a314fd-90e9-42df-bbec-0d827bfe706b')\"\n",
              "              title=\"Convert this dataframe to an interactive table.\"\n",
              "              style=\"display:none;\">\n",
              "        \n",
              "  <svg xmlns=\"http://www.w3.org/2000/svg\" height=\"24px\"viewBox=\"0 0 24 24\"\n",
              "       width=\"24px\">\n",
              "    <path d=\"M0 0h24v24H0V0z\" fill=\"none\"/>\n",
              "    <path d=\"M18.56 5.44l.94 2.06.94-2.06 2.06-.94-2.06-.94-.94-2.06-.94 2.06-2.06.94zm-11 1L8.5 8.5l.94-2.06 2.06-.94-2.06-.94L8.5 2.5l-.94 2.06-2.06.94zm10 10l.94 2.06.94-2.06 2.06-.94-2.06-.94-.94-2.06-.94 2.06-2.06.94z\"/><path d=\"M17.41 7.96l-1.37-1.37c-.4-.4-.92-.59-1.43-.59-.52 0-1.04.2-1.43.59L10.3 9.45l-7.72 7.72c-.78.78-.78 2.05 0 2.83L4 21.41c.39.39.9.59 1.41.59.51 0 1.02-.2 1.41-.59l7.78-7.78 2.81-2.81c.8-.78.8-2.07 0-2.86zM5.41 20L4 18.59l7.72-7.72 1.47 1.35L5.41 20z\"/>\n",
              "  </svg>\n",
              "      </button>\n",
              "      \n",
              "  <style>\n",
              "    .colab-df-container {\n",
              "      display:flex;\n",
              "      flex-wrap:wrap;\n",
              "      gap: 12px;\n",
              "    }\n",
              "\n",
              "    .colab-df-convert {\n",
              "      background-color: #E8F0FE;\n",
              "      border: none;\n",
              "      border-radius: 50%;\n",
              "      cursor: pointer;\n",
              "      display: none;\n",
              "      fill: #1967D2;\n",
              "      height: 32px;\n",
              "      padding: 0 0 0 0;\n",
              "      width: 32px;\n",
              "    }\n",
              "\n",
              "    .colab-df-convert:hover {\n",
              "      background-color: #E2EBFA;\n",
              "      box-shadow: 0px 1px 2px rgba(60, 64, 67, 0.3), 0px 1px 3px 1px rgba(60, 64, 67, 0.15);\n",
              "      fill: #174EA6;\n",
              "    }\n",
              "\n",
              "    [theme=dark] .colab-df-convert {\n",
              "      background-color: #3B4455;\n",
              "      fill: #D2E3FC;\n",
              "    }\n",
              "\n",
              "    [theme=dark] .colab-df-convert:hover {\n",
              "      background-color: #434B5C;\n",
              "      box-shadow: 0px 1px 3px 1px rgba(0, 0, 0, 0.15);\n",
              "      filter: drop-shadow(0px 1px 2px rgba(0, 0, 0, 0.3));\n",
              "      fill: #FFFFFF;\n",
              "    }\n",
              "  </style>\n",
              "\n",
              "      <script>\n",
              "        const buttonEl =\n",
              "          document.querySelector('#df-e0a314fd-90e9-42df-bbec-0d827bfe706b button.colab-df-convert');\n",
              "        buttonEl.style.display =\n",
              "          google.colab.kernel.accessAllowed ? 'block' : 'none';\n",
              "\n",
              "        async function convertToInteractive(key) {\n",
              "          const element = document.querySelector('#df-e0a314fd-90e9-42df-bbec-0d827bfe706b');\n",
              "          const dataTable =\n",
              "            await google.colab.kernel.invokeFunction('convertToInteractive',\n",
              "                                                     [key], {});\n",
              "          if (!dataTable) return;\n",
              "\n",
              "          const docLinkHtml = 'Like what you see? Visit the ' +\n",
              "            '<a target=\"_blank\" href=https://colab.research.google.com/notebooks/data_table.ipynb>data table notebook</a>'\n",
              "            + ' to learn more about interactive tables.';\n",
              "          element.innerHTML = '';\n",
              "          dataTable['output_type'] = 'display_data';\n",
              "          await google.colab.output.renderOutput(dataTable, element);\n",
              "          const docLink = document.createElement('div');\n",
              "          docLink.innerHTML = docLinkHtml;\n",
              "          element.appendChild(docLink);\n",
              "        }\n",
              "      </script>\n",
              "    </div>\n",
              "  </div>\n",
              "  "
            ]
          },
          "metadata": {},
          "execution_count": 194
        }
      ]
    },
    {
      "cell_type": "code",
      "source": [
        "sample=sample.drop('Unnamed: 0',axis=1)"
      ],
      "metadata": {
        "id": "s1TFafJQNQrP"
      },
      "execution_count": null,
      "outputs": []
    },
    {
      "cell_type": "code",
      "source": [
        "loaded_model=pickle.load(open('ada_boost.pkl','rb'))\n",
        "loaded_predicted_model=loaded_model.predict(sample)\n",
        "loaded_predicted_model"
      ],
      "metadata": {
        "colab": {
          "base_uri": "https://localhost:8080/"
        },
        "id": "I-ocP6iNNZ5X",
        "outputId": "b9c96115-b15c-4634-8c58-c9ae2598733c"
      },
      "execution_count": null,
      "outputs": [
        {
          "output_type": "execute_result",
          "data": {
            "text/plain": [
              "array([0., 0., 0., 0., 0., 0., 0., 0., 0., 0., 0., 0., 0., 0., 0., 0., 0.,\n",
              "       0., 0., 0.])"
            ]
          },
          "metadata": {},
          "execution_count": 196
        }
      ]
    },
    {
      "cell_type": "code",
      "source": [
        "#  Compare the actual data and predicted data\n",
        "new_data[\"predicted_target\"] =loaded_predicted_model"
      ],
      "metadata": {
        "id": "GW2YynwZOGll"
      },
      "execution_count": null,
      "outputs": []
    },
    {
      "cell_type": "code",
      "source": [
        "print(new_data[['target','predicted_target']])"
      ],
      "metadata": {
        "colab": {
          "base_uri": "https://localhost:8080/"
        },
        "id": "JlLgrGXiPF9C",
        "outputId": "29299f35-37e0-4eae-e648-40aa98260e88"
      },
      "execution_count": null,
      "outputs": [
        {
          "output_type": "stream",
          "name": "stdout",
          "text": [
            "     target  predicted_target\n",
            "574     0.0               0.0\n",
            "802     0.0               0.0\n",
            "748     0.0               0.0\n",
            "733     0.0               0.0\n",
            "1       0.0               0.0\n",
            "201     0.0               0.0\n",
            "916     0.0               0.0\n",
            "158     0.0               0.0\n",
            "188     0.0               0.0\n",
            "184     0.0               0.0\n",
            "409     0.0               0.0\n",
            "502     0.0               0.0\n",
            "41      0.0               0.0\n",
            "578     0.0               0.0\n",
            "641     0.0               0.0\n",
            "52      0.0               0.0\n",
            "685     0.0               0.0\n",
            "735     0.0               0.0\n",
            "154     0.0               0.0\n",
            "17      0.0               0.0\n"
          ]
        }
      ]
    }
  ]
}